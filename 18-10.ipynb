{
  "nbformat": 4,
  "nbformat_minor": 0,
  "metadata": {
    "colab": {
      "provenance": [],
      "authorship_tag": "ABX9TyNUi4Wf7AasMoVTs864YDsY",
      "include_colab_link": true
    },
    "kernelspec": {
      "name": "python3",
      "display_name": "Python 3"
    },
    "language_info": {
      "name": "python"
    }
  },
  "cells": [
    {
      "cell_type": "markdown",
      "metadata": {
        "id": "view-in-github",
        "colab_type": "text"
      },
      "source": [
        "<a href=\"https://colab.research.google.com/github/vanhau8562/AI-/blob/main/18-10.ipynb\" target=\"_parent\"><img src=\"https://colab.research.google.com/assets/colab-badge.svg\" alt=\"Open In Colab\"/></a>"
      ]
    },
    {
      "cell_type": "code",
      "execution_count": 1,
      "metadata": {
        "colab": {
          "base_uri": "https://localhost:8080/"
        },
        "id": "WaiguzOy7Bjd",
        "outputId": "af80dc36-8bb9-43c7-f317-f75b55d2e277"
      },
      "outputs": [
        {
          "output_type": "stream",
          "name": "stdout",
          "text": [
            "Downloading data from https://storage.googleapis.com/tensorflow/tf-keras-datasets/mnist.npz\n",
            "11490434/11490434 [==============================] - 0s 0us/step\n"
          ]
        },
        {
          "output_type": "execute_result",
          "data": {
            "text/plain": [
              "(60000, 28, 28)"
            ]
          },
          "metadata": {},
          "execution_count": 1
        }
      ],
      "source": [
        "from keras.datasets import mnist\n",
        "(train_images, train_labels), (test_images,test_labels) = mnist.load_data()\n",
        "train_images.shape\n"
      ]
    },
    {
      "cell_type": "code",
      "source": [
        "train_labels.shape"
      ],
      "metadata": {
        "colab": {
          "base_uri": "https://localhost:8080/"
        },
        "id": "wPLMP58i7Mbf",
        "outputId": "80e62fb4-a44c-4b6f-de6e-1618b4bbde67"
      },
      "execution_count": 2,
      "outputs": [
        {
          "output_type": "execute_result",
          "data": {
            "text/plain": [
              "(60000,)"
            ]
          },
          "metadata": {},
          "execution_count": 2
        }
      ]
    },
    {
      "cell_type": "code",
      "source": [
        "test_images.shape"
      ],
      "metadata": {
        "colab": {
          "base_uri": "https://localhost:8080/"
        },
        "id": "3ftqdKK67OMJ",
        "outputId": "80473701-2fad-4a65-d5fc-2b7704fc2f43"
      },
      "execution_count": 3,
      "outputs": [
        {
          "output_type": "execute_result",
          "data": {
            "text/plain": [
              "(10000, 28, 28)"
            ]
          },
          "metadata": {},
          "execution_count": 3
        }
      ]
    },
    {
      "cell_type": "code",
      "source": [
        "test_labels.shape"
      ],
      "metadata": {
        "colab": {
          "base_uri": "https://localhost:8080/"
        },
        "id": "sZxsi1MT7Qoo",
        "outputId": "08084aeb-82dd-4962-84ce-5e4956f424f3"
      },
      "execution_count": 4,
      "outputs": [
        {
          "output_type": "execute_result",
          "data": {
            "text/plain": [
              "(10000,)"
            ]
          },
          "metadata": {},
          "execution_count": 4
        }
      ]
    },
    {
      "cell_type": "code",
      "source": [
        "import matplotlib.pyplot as plt\n",
        "plt.imshow(train_images[10])\n",
        "plt.show()\n",
        "print(train_labels[10])"
      ],
      "metadata": {
        "colab": {
          "base_uri": "https://localhost:8080/",
          "height": 282
        },
        "id": "PvJX3tzZ7TLr",
        "outputId": "16d62549-159b-42c9-90a0-73a06399a074"
      },
      "execution_count": 5,
      "outputs": [
        {
          "output_type": "display_data",
          "data": {
            "text/plain": [
              "<Figure size 432x288 with 1 Axes>"
            ],
            "image/png": "[encoded data removed]"
          },
          "metadata": {
            "needs_background": "light"
          }
        },
        {
          "output_type": "stream",
          "name": "stdout",
          "text": [
            "3\n"
          ]
        }
      ]
    },
    {
      "cell_type": "code",
      "source": [
        "from keras.optimizers import optimizer_legacy\n",
        "from keras.layers.serialization import activation\n",
        "from keras import models\n",
        "from keras import layers\n",
        "model=models.Sequential()\n",
        "model.add(layers.Dense(512,activation = 'relu',input_shape=(28*28,)))\n",
        "model.add(layers.Dense(10,activation='softmax'))\n",
        "model.summary()"
      ],
      "metadata": {
        "colab": {
          "base_uri": "https://localhost:8080/"
        },
        "id": "TS_Vy_Tg7ZgB",
        "outputId": "11fa6ffa-3f40-4116-d896-583c44baa16c"
      },
      "execution_count": 6,
      "outputs": [
        {
          "output_type": "stream",
          "name": "stdout",
          "text": [
            "Model: \"sequential\"\n",
            "_________________________________________________________________\n",
            " Layer (type)                Output Shape              Param #   \n",
            "=================================================================\n",
            " dense (Dense)               (None, 512)               401920    \n",
            "                                                                 \n",
            " dense_1 (Dense)             (None, 10)                5130      \n",
            "                                                                 \n",
            "=================================================================\n",
            "Total params: 407,050\n",
            "Trainable params: 407,050\n",
            "Non-trainable params: 0\n",
            "_________________________________________________________________\n"
          ]
        }
      ]
    },
    {
      "cell_type": "code",
      "source": [
        "train_images = train_images.reshape((60000, 28*28))\n",
        "train_images = train_images.astype('float32')/255\n",
        "test_images = test_images.reshape((10000, 28*28))\n",
        "test_images = test_images.astype('float32')/255\n",
        "train_images.shape"
      ],
      "metadata": {
        "colab": {
          "base_uri": "https://localhost:8080/"
        },
        "id": "IqUn-XCP8gUF",
        "outputId": "1558d150-a8a6-4299-d4e8-7469e4d4a7a5"
      },
      "execution_count": 7,
      "outputs": [
        {
          "output_type": "execute_result",
          "data": {
            "text/plain": [
              "(60000, 784)"
            ]
          },
          "metadata": {},
          "execution_count": 7
        }
      ]
    },
    {
      "cell_type": "code",
      "source": [
        "test_images.shape"
      ],
      "metadata": {
        "colab": {
          "base_uri": "https://localhost:8080/"
        },
        "id": "LzRRDYAP8mX5",
        "outputId": "657c955a-5189-40b4-e2b4-5ca8d0939bfe"
      },
      "execution_count": 8,
      "outputs": [
        {
          "output_type": "execute_result",
          "data": {
            "text/plain": [
              "(10000, 784)"
            ]
          },
          "metadata": {},
          "execution_count": 8
        }
      ]
    },
    {
      "cell_type": "code",
      "source": [
        "from keras.utils.np_utils import to_categorical\n",
        "from keras.utils import to_categorical\n",
        "train_labels = to_categorical(train_labels)\n",
        "test_labels = to_categorical(test_labels)\n",
        "train_labels.shape"
      ],
      "metadata": {
        "colab": {
          "base_uri": "https://localhost:8080/"
        },
        "id": "OevEkl_i8ro2",
        "outputId": "7fcf4757-40d2-494d-828d-5248bb913866"
      },
      "execution_count": 9,
      "outputs": [
        {
          "output_type": "execute_result",
          "data": {
            "text/plain": [
              "(60000, 10)"
            ]
          },
          "metadata": {},
          "execution_count": 9
        }
      ]
    },
    {
      "cell_type": "code",
      "source": [
        "test_labels.shape"
      ],
      "metadata": {
        "colab": {
          "base_uri": "https://localhost:8080/"
        },
        "id": "fwECYYXm8t-k",
        "outputId": "dff52860-c71c-4743-a5d6-722b21c9bc70"
      },
      "execution_count": 10,
      "outputs": [
        {
          "output_type": "execute_result",
          "data": {
            "text/plain": [
              "(10000, 10)"
            ]
          },
          "metadata": {},
          "execution_count": 10
        }
      ]
    },
    {
      "cell_type": "code",
      "source": [
        "model.compile(optimizer='rmsprop',loss='categorical_crossentropy',metrics=['accuracy'])\n",
        "model.fit(train_images,train_labels,epochs=100,batch_size=128)"
      ],
      "metadata": {
        "colab": {
          "base_uri": "https://localhost:8080/"
        },
        "id": "3XRnYq_O8whA",
        "outputId": "6525211d-f231-4de6-8a2f-a37969561466"
      },
      "execution_count": 13,
      "outputs": [
        {
          "output_type": "stream",
          "name": "stdout",
          "text": [
            "Epoch 1/100\n",
            "469/469 [==============================] - 6s 11ms/step - loss: 0.2536 - accuracy: 0.9262\n",
            "Epoch 2/100\n",
            "469/469 [==============================] - 5s 10ms/step - loss: 0.1015 - accuracy: 0.9699\n",
            "Epoch 3/100\n",
            "469/469 [==============================] - 5s 10ms/step - loss: 0.0666 - accuracy: 0.9806\n",
            "Epoch 4/100\n",
            "469/469 [==============================] - 5s 11ms/step - loss: 0.0481 - accuracy: 0.9858\n",
            "Epoch 5/100\n",
            "469/469 [==============================] - 5s 10ms/step - loss: 0.0364 - accuracy: 0.9892\n",
            "Epoch 6/100\n",
            "469/469 [==============================] - 5s 10ms/step - loss: 0.0285 - accuracy: 0.9915\n",
            "Epoch 7/100\n",
            "469/469 [==============================] - 5s 10ms/step - loss: 0.0214 - accuracy: 0.9937\n",
            "Epoch 8/100\n",
            "469/469 [==============================] - 5s 10ms/step - loss: 0.0164 - accuracy: 0.9951\n",
            "Epoch 9/100\n",
            "469/469 [==============================] - 5s 10ms/step - loss: 0.0126 - accuracy: 0.9960\n",
            "Epoch 10/100\n",
            "469/469 [==============================] - 5s 10ms/step - loss: 0.0106 - accuracy: 0.9971\n",
            "Epoch 11/100\n",
            "469/469 [==============================] - 5s 10ms/step - loss: 0.0072 - accuracy: 0.9980\n",
            "Epoch 12/100\n",
            "469/469 [==============================] - 5s 10ms/step - loss: 0.0063 - accuracy: 0.9981\n",
            "Epoch 13/100\n",
            "469/469 [==============================] - 6s 14ms/step - loss: 0.0052 - accuracy: 0.9986\n",
            "Epoch 14/100\n",
            "469/469 [==============================] - 8s 17ms/step - loss: 0.0041 - accuracy: 0.9990\n",
            "Epoch 15/100\n",
            "469/469 [==============================] - 5s 11ms/step - loss: 0.0031 - accuracy: 0.9992\n",
            "Epoch 16/100\n",
            "469/469 [==============================] - 6s 12ms/step - loss: 0.0024 - accuracy: 0.9994\n",
            "Epoch 17/100\n",
            "469/469 [==============================] - 6s 12ms/step - loss: 0.0017 - accuracy: 0.9995\n",
            "Epoch 18/100\n",
            "469/469 [==============================] - 5s 11ms/step - loss: 0.0014 - accuracy: 0.9997\n",
            "Epoch 19/100\n",
            "469/469 [==============================] - 6s 13ms/step - loss: 0.0011 - accuracy: 0.9998\n",
            "Epoch 20/100\n",
            "469/469 [==============================] - 5s 11ms/step - loss: 0.0012 - accuracy: 0.9996\n",
            "Epoch 21/100\n",
            "469/469 [==============================] - 5s 11ms/step - loss: 9.1214e-04 - accuracy: 0.9998\n",
            "Epoch 22/100\n",
            "469/469 [==============================] - 5s 11ms/step - loss: 4.8670e-04 - accuracy: 0.9999\n",
            "Epoch 23/100\n",
            "469/469 [==============================] - 5s 11ms/step - loss: 5.2991e-04 - accuracy: 0.9998\n",
            "Epoch 24/100\n",
            "469/469 [==============================] - 5s 11ms/step - loss: 5.2821e-04 - accuracy: 0.9999\n",
            "Epoch 25/100\n",
            "469/469 [==============================] - 5s 11ms/step - loss: 2.7232e-04 - accuracy: 0.9999\n",
            "Epoch 26/100\n",
            "469/469 [==============================] - 5s 11ms/step - loss: 3.7949e-04 - accuracy: 0.9999\n",
            "Epoch 27/100\n",
            "469/469 [==============================] - 5s 11ms/step - loss: 2.4074e-04 - accuracy: 0.9999\n",
            "Epoch 28/100\n",
            "469/469 [==============================] - 5s 11ms/step - loss: 1.5865e-04 - accuracy: 0.9999\n",
            "Epoch 29/100\n",
            "469/469 [==============================] - 5s 11ms/step - loss: 1.7310e-04 - accuracy: 0.9999\n",
            "Epoch 30/100\n",
            "469/469 [==============================] - 5s 10ms/step - loss: 1.9351e-04 - accuracy: 0.9999\n",
            "Epoch 31/100\n",
            "469/469 [==============================] - 5s 10ms/step - loss: 4.2112e-05 - accuracy: 1.0000\n",
            "Epoch 32/100\n",
            "469/469 [==============================] - 5s 10ms/step - loss: 3.5349e-05 - accuracy: 1.0000\n",
            "Epoch 33/100\n",
            "469/469 [==============================] - 5s 10ms/step - loss: 7.8606e-05 - accuracy: 0.9999\n",
            "Epoch 34/100\n",
            "469/469 [==============================] - 5s 10ms/step - loss: 3.8968e-05 - accuracy: 1.0000\n",
            "Epoch 35/100\n",
            "469/469 [==============================] - 5s 10ms/step - loss: 4.1569e-05 - accuracy: 1.0000\n",
            "Epoch 36/100\n",
            "469/469 [==============================] - 5s 10ms/step - loss: 5.2441e-05 - accuracy: 1.0000\n",
            "Epoch 37/100\n",
            "469/469 [==============================] - 5s 10ms/step - loss: 1.5084e-04 - accuracy: 1.0000\n",
            "Epoch 38/100\n",
            "469/469 [==============================] - 5s 10ms/step - loss: 3.3423e-06 - accuracy: 1.0000\n",
            "Epoch 39/100\n",
            "469/469 [==============================] - 5s 10ms/step - loss: 4.7437e-06 - accuracy: 1.0000\n",
            "Epoch 40/100\n",
            "469/469 [==============================] - 5s 11ms/step - loss: 7.4980e-07 - accuracy: 1.0000\n",
            "Epoch 41/100\n",
            "469/469 [==============================] - 5s 10ms/step - loss: 1.5274e-07 - accuracy: 1.0000\n",
            "Epoch 42/100\n",
            "469/469 [==============================] - 5s 11ms/step - loss: 1.3905e-07 - accuracy: 1.0000\n",
            "Epoch 43/100\n",
            "469/469 [==============================] - 5s 11ms/step - loss: 3.2395e-08 - accuracy: 1.0000\n",
            "Epoch 44/100\n",
            "469/469 [==============================] - 5s 11ms/step - loss: 2.5175e-08 - accuracy: 1.0000\n",
            "Epoch 45/100\n",
            "469/469 [==============================] - 5s 11ms/step - loss: 2.1362e-08 - accuracy: 1.0000\n",
            "Epoch 46/100\n",
            "469/469 [==============================] - 5s 11ms/step - loss: 1.9050e-08 - accuracy: 1.0000\n",
            "Epoch 47/100\n",
            "469/469 [==============================] - 5s 11ms/step - loss: 1.7446e-08 - accuracy: 1.0000\n",
            "Epoch 48/100\n",
            "469/469 [==============================] - 5s 11ms/step - loss: 1.6026e-08 - accuracy: 1.0000\n",
            "Epoch 49/100\n",
            "469/469 [==============================] - 5s 11ms/step - loss: 1.5102e-08 - accuracy: 1.0000\n",
            "Epoch 50/100\n",
            "469/469 [==============================] - 5s 11ms/step - loss: 1.4172e-08 - accuracy: 1.0000\n",
            "Epoch 51/100\n",
            "469/469 [==============================] - 6s 13ms/step - loss: 1.3310e-08 - accuracy: 1.0000\n",
            "Epoch 52/100\n",
            "469/469 [==============================] - 5s 11ms/step - loss: 1.2724e-08 - accuracy: 1.0000\n",
            "Epoch 53/100\n",
            "469/469 [==============================] - 5s 11ms/step - loss: 1.2122e-08 - accuracy: 1.0000\n",
            "Epoch 54/100\n",
            "469/469 [==============================] - 5s 11ms/step - loss: 1.1617e-08 - accuracy: 1.0000\n",
            "Epoch 55/100\n",
            "469/469 [==============================] - 5s 11ms/step - loss: 1.1023e-08 - accuracy: 1.0000\n",
            "Epoch 56/100\n",
            "469/469 [==============================] - 5s 10ms/step - loss: 1.0600e-08 - accuracy: 1.0000\n",
            "Epoch 57/100\n",
            "469/469 [==============================] - 5s 11ms/step - loss: 1.0250e-08 - accuracy: 1.0000\n",
            "Epoch 58/100\n",
            "469/469 [==============================] - 5s 11ms/step - loss: 9.8248e-09 - accuracy: 1.0000\n",
            "Epoch 59/100\n",
            "469/469 [==============================] - 5s 11ms/step - loss: 9.5248e-09 - accuracy: 1.0000\n",
            "Epoch 60/100\n",
            "469/469 [==============================] - 5s 11ms/step - loss: 9.1235e-09 - accuracy: 1.0000\n",
            "Epoch 61/100\n",
            "469/469 [==============================] - 5s 11ms/step - loss: 8.9645e-09 - accuracy: 1.0000\n",
            "Epoch 62/100\n",
            "469/469 [==============================] - 5s 11ms/step - loss: 8.7321e-09 - accuracy: 1.0000\n",
            "Epoch 63/100\n",
            "469/469 [==============================] - 5s 11ms/step - loss: 8.3903e-09 - accuracy: 1.0000\n",
            "Epoch 64/100\n",
            "469/469 [==============================] - 5s 11ms/step - loss: 8.2036e-09 - accuracy: 1.0000\n",
            "Epoch 65/100\n",
            "469/469 [==============================] - 5s 11ms/step - loss: 7.9830e-09 - accuracy: 1.0000\n",
            "Epoch 66/100\n",
            "469/469 [==============================] - 5s 11ms/step - loss: 7.8201e-09 - accuracy: 1.0000\n",
            "Epoch 67/100\n",
            "469/469 [==============================] - 5s 11ms/step - loss: 7.5777e-09 - accuracy: 1.0000\n",
            "Epoch 68/100\n",
            "469/469 [==============================] - 5s 11ms/step - loss: 7.4724e-09 - accuracy: 1.0000\n",
            "Epoch 69/100\n",
            "469/469 [==============================] - 5s 11ms/step - loss: 7.3274e-09 - accuracy: 1.0000\n",
            "Epoch 70/100\n",
            "469/469 [==============================] - 5s 11ms/step - loss: 7.1247e-09 - accuracy: 1.0000\n",
            "Epoch 71/100\n",
            "469/469 [==============================] - 5s 11ms/step - loss: 6.9618e-09 - accuracy: 1.0000\n",
            "Epoch 72/100\n",
            "469/469 [==============================] - 5s 11ms/step - loss: 6.8466e-09 - accuracy: 1.0000\n",
            "Epoch 73/100\n",
            "469/469 [==============================] - 5s 11ms/step - loss: 6.7413e-09 - accuracy: 1.0000\n",
            "Epoch 74/100\n",
            "469/469 [==============================] - 5s 10ms/step - loss: 6.6062e-09 - accuracy: 1.0000\n",
            "Epoch 75/100\n",
            "469/469 [==============================] - 5s 11ms/step - loss: 6.4989e-09 - accuracy: 1.0000\n",
            "Epoch 76/100\n",
            "469/469 [==============================] - 5s 11ms/step - loss: 6.3856e-09 - accuracy: 1.0000\n",
            "Epoch 77/100\n",
            "469/469 [==============================] - 5s 11ms/step - loss: 6.3340e-09 - accuracy: 1.0000\n",
            "Epoch 78/100\n",
            "469/469 [==============================] - 5s 11ms/step - loss: 6.2009e-09 - accuracy: 1.0000\n",
            "Epoch 79/100\n",
            "469/469 [==============================] - 5s 11ms/step - loss: 6.0896e-09 - accuracy: 1.0000\n",
            "Epoch 80/100\n",
            "469/469 [==============================] - 5s 11ms/step - loss: 5.9982e-09 - accuracy: 1.0000\n",
            "Epoch 81/100\n",
            "469/469 [==============================] - 5s 11ms/step - loss: 5.9207e-09 - accuracy: 1.0000\n",
            "Epoch 82/100\n",
            "469/469 [==============================] - 5s 11ms/step - loss: 5.8631e-09 - accuracy: 1.0000\n",
            "Epoch 83/100\n",
            "469/469 [==============================] - 5s 11ms/step - loss: 5.8075e-09 - accuracy: 1.0000\n",
            "Epoch 84/100\n",
            "469/469 [==============================] - 5s 11ms/step - loss: 5.7618e-09 - accuracy: 1.0000\n",
            "Epoch 85/100\n",
            "469/469 [==============================] - 5s 11ms/step - loss: 5.7240e-09 - accuracy: 1.0000\n",
            "Epoch 86/100\n",
            "469/469 [==============================] - 5s 11ms/step - loss: 5.5770e-09 - accuracy: 1.0000\n",
            "Epoch 87/100\n",
            "469/469 [==============================] - 5s 11ms/step - loss: 5.5095e-09 - accuracy: 1.0000\n",
            "Epoch 88/100\n",
            "469/469 [==============================] - 5s 11ms/step - loss: 5.4777e-09 - accuracy: 1.0000\n",
            "Epoch 89/100\n",
            "469/469 [==============================] - 5s 11ms/step - loss: 5.3942e-09 - accuracy: 1.0000\n",
            "Epoch 90/100\n",
            "469/469 [==============================] - 5s 11ms/step - loss: 5.3207e-09 - accuracy: 1.0000\n",
            "Epoch 91/100\n",
            "469/469 [==============================] - 6s 13ms/step - loss: 5.3326e-09 - accuracy: 1.0000\n",
            "Epoch 92/100\n",
            "469/469 [==============================] - 5s 11ms/step - loss: 5.2273e-09 - accuracy: 1.0000\n",
            "Epoch 93/100\n",
            "469/469 [==============================] - 5s 11ms/step - loss: 5.2234e-09 - accuracy: 1.0000\n",
            "Epoch 94/100\n",
            "469/469 [==============================] - 5s 11ms/step - loss: 5.1677e-09 - accuracy: 1.0000\n",
            "Epoch 95/100\n",
            "469/469 [==============================] - 5s 11ms/step - loss: 5.0783e-09 - accuracy: 1.0000\n",
            "Epoch 96/100\n",
            "469/469 [==============================] - 5s 11ms/step - loss: 5.0485e-09 - accuracy: 1.0000\n",
            "Epoch 97/100\n",
            "469/469 [==============================] - 5s 11ms/step - loss: 5.0108e-09 - accuracy: 1.0000\n",
            "Epoch 98/100\n",
            "469/469 [==============================] - 5s 11ms/step - loss: 4.9710e-09 - accuracy: 1.0000\n",
            "Epoch 99/100\n",
            "469/469 [==============================] - 5s 11ms/step - loss: 4.9671e-09 - accuracy: 1.0000\n",
            "Epoch 100/100\n",
            "469/469 [==============================] - 5s 11ms/step - loss: 4.9293e-09 - accuracy: 1.0000\n"
          ]
        },
        {
          "output_type": "execute_result",
          "data": {
            "text/plain": [
              "<keras.callbacks.History at 0x7f974b927650>"
            ]
          },
          "metadata": {},
          "execution_count": 13
        }
      ]
    },
    {
      "cell_type": "code",
      "source": [
        "test_loss,test_acc=model.evaluate(test_images,test_labels)\n",
        "print('Test accuracy:',test_acc)"
      ],
      "metadata": {
        "colab": {
          "base_uri": "https://localhost:8080/"
        },
        "id": "mzO26FcJ-zpv",
        "outputId": "fb654ba8-45d0-41e1-f3eb-9ffdc1e02d2e"
      },
      "execution_count": 14,
      "outputs": [
        {
          "output_type": "stream",
          "name": "stdout",
          "text": [
            "313/313 [==============================] - 1s 3ms/step - loss: 0.1588 - accuracy: 0.9823\n",
            "Test accuracy: 0.9822999835014343\n"
          ]
        }
      ]
    },
    {
      "cell_type": "code",
      "source": [
        "from keras.datasets import fashion_mnist\n",
        "(x_train,y_train),(x_test,y_test)=fashion_mnist.load_data()\n",
        "x_train.shape"
      ],
      "metadata": {
        "colab": {
          "base_uri": "https://localhost:8080/"
        },
        "id": "sMSKmK84_XmJ",
        "outputId": "3ec76d91-1068-4e2d-d8e6-7df6e5c1ac9d"
      },
      "execution_count": 15,
      "outputs": [
        {
          "output_type": "stream",
          "name": "stdout",
          "text": [
            "Downloading data from https://storage.googleapis.com/tensorflow/tf-keras-datasets/train-labels-idx1-ubyte.gz\n",
            "29515/29515 [==============================] - 0s 0us/step\n",
            "Downloading data from https://storage.googleapis.com/tensorflow/tf-keras-datasets/train-images-idx3-ubyte.gz\n",
            "26421880/26421880 [==============================] - 0s 0us/step\n",
            "Downloading data from https://storage.googleapis.com/tensorflow/tf-keras-datasets/t10k-labels-idx1-ubyte.gz\n",
            "5148/5148 [==============================] - 0s 0us/step\n",
            "Downloading data from https://storage.googleapis.com/tensorflow/tf-keras-datasets/t10k-images-idx3-ubyte.gz\n",
            "4422102/4422102 [==============================] - 0s 0us/step\n"
          ]
        },
        {
          "output_type": "execute_result",
          "data": {
            "text/plain": [
              "(60000, 28, 28)"
            ]
          },
          "metadata": {},
          "execution_count": 15
        }
      ]
    },
    {
      "cell_type": "code",
      "source": [
        "from keras.datasets import fashion_mnist\n",
        "(x_train,y_train),(x_test,y_test)=fashion_mnist.load_data()\n",
        "y_train.shape"
      ],
      "metadata": {
        "colab": {
          "base_uri": "https://localhost:8080/"
        },
        "id": "l-3BNOQX_bKn",
        "outputId": "df4eaee2-c5ab-4e02-ce54-920f1ad9a29c"
      },
      "execution_count": 16,
      "outputs": [
        {
          "output_type": "execute_result",
          "data": {
            "text/plain": [
              "(60000,)"
            ]
          },
          "metadata": {},
          "execution_count": 16
        }
      ]
    },
    {
      "cell_type": "code",
      "source": [
        "from keras.datasets import fashion_mnist\n",
        "(x_train,y_train),(x_test,y_test)=fashion_mnist.load_data()\n",
        "x_test.shape"
      ],
      "metadata": {
        "colab": {
          "base_uri": "https://localhost:8080/"
        },
        "id": "uh6Qw3LWBXZR",
        "outputId": "b3099485-4f46-44b9-ed3e-8205cf04f99e"
      },
      "execution_count": 17,
      "outputs": [
        {
          "output_type": "execute_result",
          "data": {
            "text/plain": [
              "(10000, 28, 28)"
            ]
          },
          "metadata": {},
          "execution_count": 17
        }
      ]
    },
    {
      "cell_type": "code",
      "source": [
        "from keras.datasets import fashion_mnist\n",
        "(x_train,y_train),(x_test,y_test)=fashion_mnist.load_data()\n",
        "y_test.shape"
      ],
      "metadata": {
        "colab": {
          "base_uri": "https://localhost:8080/"
        },
        "id": "s5lApAdQBZlK",
        "outputId": "1d6d2475-9e40-4d97-82a5-84d53dce388e"
      },
      "execution_count": 18,
      "outputs": [
        {
          "output_type": "execute_result",
          "data": {
            "text/plain": [
              "(10000,)"
            ]
          },
          "metadata": {},
          "execution_count": 18
        }
      ]
    },
    {
      "cell_type": "code",
      "source": [
        "import matplotlib.pyplot as plt\n",
        "plt.imshow(x_train[100])\n",
        "plt.show()\n",
        "#print(test_label[100])"
      ],
      "metadata": {
        "colab": {
          "base_uri": "https://localhost:8080/",
          "height": 265
        },
        "id": "pe3YN4VJBceM",
        "outputId": "97357fbe-625a-480a-c75a-1c8704ad582b"
      },
      "execution_count": 22,
      "outputs": [
        {
          "output_type": "display_data",
          "data": {
            "text/plain": [
              "<Figure size 432x288 with 1 Axes>"
            ],
            "image/png": "[encoded data removed]"
          },
          "metadata": {
            "needs_background": "light"
          }
        }
      ]
    },
    {
      "cell_type": "code",
      "source": [
        "class_name=['T-shirt','Trousers','Pullover','Press','Coat','Sandal','Shirt','Bag','Ankle boot']"
      ],
      "metadata": {
        "id": "jHZlZMbwBhP_"
      },
      "execution_count": 23,
      "outputs": []
    },
    {
      "cell_type": "code",
      "source": [
        "import matplotlib.pyplot as plot\n",
        "plt.imshow(x_train[20])\n",
        "plt.show()\n",
        "print(class_name[y_train[20]])"
      ],
      "metadata": {
        "colab": {
          "base_uri": "https://localhost:8080/",
          "height": 282
        },
        "id": "sJHt6S6qCwBq",
        "outputId": "85e6a5f9-c8a2-4fb9-ae90-658f357d07b6"
      },
      "execution_count": 24,
      "outputs": [
        {
          "output_type": "display_data",
          "data": {
            "text/plain": [
              "<Figure size 432x288 with 1 Axes>"
            ],
            "image/png": "[encoded data removed]"
          },
          "metadata": {
            "needs_background": "light"
          }
        },
        {
          "output_type": "stream",
          "name": "stdout",
          "text": [
            "Press\n"
          ]
        }
      ]
    },
    {
      "cell_type": "code",
      "source": [
        "from keras.datasets import fashion_mnist\n",
        "(x_train,y_train),(x_test,y_test)=fashion_mnist.load_data()"
      ],
      "metadata": {
        "id": "jNPmb05mCyE1"
      },
      "execution_count": 25,
      "outputs": []
    },
    {
      "cell_type": "code",
      "source": [
        "x_train=x_train.reshape((60000,28*28))\n",
        "x_train=x_train.astype('float32')/255\n",
        "x_test=x_test.reshape(10000,28*28)\n",
        "x_test=x_test.astype('float32')/255\n",
        "from keras.utils import to_categorical\n",
        "y_train=to_categorical(y_train)\n",
        "y_test=to_categorical(y_test)"
      ],
      "metadata": {
        "id": "tyeUiQ2MC0IM"
      },
      "execution_count": 26,
      "outputs": []
    },
    {
      "cell_type": "code",
      "source": [
        "from keras import models\n",
        "from keras import layers\n",
        "model=models.Sequential()\n",
        "model.add(layers.Dense(500,activation='relu',input_shape=(28*28,)))\n",
        "model.add(layers.Dense(10,activation='softmax'))\n",
        "model.summary()\n",
        "model.compile(optimizer=\"rmsprop\", loss = \"categorical_crossentropy\", metrics=[\"accuracy\"])\n",
        "model.fit(x_train, y_train, epochs=50, batch_size=100)"
      ],
      "metadata": {
        "colab": {
          "base_uri": "https://localhost:8080/"
        },
        "id": "ed3S1fbMC3MZ",
        "outputId": "048b0813-0800-4bc7-a78d-e13819246e67"
      },
      "execution_count": 27,
      "outputs": [
        {
          "output_type": "stream",
          "name": "stdout",
          "text": [
            "Model: \"sequential_1\"\n",
            "_________________________________________________________________\n",
            " Layer (type)                Output Shape              Param #   \n",
            "=================================================================\n",
            " dense_2 (Dense)             (None, 500)               392500    \n",
            "                                                                 \n",
            " dense_3 (Dense)             (None, 10)                5010      \n",
            "                                                                 \n",
            "=================================================================\n",
            "Total params: 397,510\n",
            "Trainable params: 397,510\n",
            "Non-trainable params: 0\n",
            "_________________________________________________________________\n",
            "Epoch 1/50\n",
            "600/600 [==============================] - 8s 11ms/step - loss: 0.5414 - accuracy: 0.8074\n",
            "Epoch 2/50\n",
            "600/600 [==============================] - 6s 10ms/step - loss: 0.3744 - accuracy: 0.8619\n",
            "Epoch 3/50\n",
            "600/600 [==============================] - 6s 10ms/step - loss: 0.3337 - accuracy: 0.8773\n",
            "Epoch 4/50\n",
            "600/600 [==============================] - 6s 9ms/step - loss: 0.3088 - accuracy: 0.8867\n",
            "Epoch 5/50\n",
            "600/600 [==============================] - 6s 10ms/step - loss: 0.2905 - accuracy: 0.8920\n",
            "Epoch 6/50\n",
            "600/600 [==============================] - 6s 11ms/step - loss: 0.2785 - accuracy: 0.8978\n",
            "Epoch 7/50\n",
            "600/600 [==============================] - 6s 10ms/step - loss: 0.2649 - accuracy: 0.9025\n",
            "Epoch 8/50\n",
            "600/600 [==============================] - 6s 11ms/step - loss: 0.2554 - accuracy: 0.9065\n",
            "Epoch 9/50\n",
            "600/600 [==============================] - 6s 10ms/step - loss: 0.2454 - accuracy: 0.9102\n",
            "Epoch 10/50\n",
            "600/600 [==============================] - 6s 10ms/step - loss: 0.2359 - accuracy: 0.9129\n",
            "Epoch 11/50\n",
            "600/600 [==============================] - 6s 10ms/step - loss: 0.2279 - accuracy: 0.9162\n",
            "Epoch 12/50\n",
            "600/600 [==============================] - 6s 10ms/step - loss: 0.2211 - accuracy: 0.9191\n",
            "Epoch 13/50\n",
            "600/600 [==============================] - 6s 10ms/step - loss: 0.2151 - accuracy: 0.9218\n",
            "Epoch 14/50\n",
            "600/600 [==============================] - 6s 10ms/step - loss: 0.2076 - accuracy: 0.9242\n",
            "Epoch 15/50\n",
            "600/600 [==============================] - 6s 11ms/step - loss: 0.2012 - accuracy: 0.9268\n",
            "Epoch 16/50\n",
            "600/600 [==============================] - 6s 10ms/step - loss: 0.1980 - accuracy: 0.9281\n",
            "Epoch 17/50\n",
            "600/600 [==============================] - 7s 12ms/step - loss: 0.1931 - accuracy: 0.9308\n",
            "Epoch 18/50\n",
            "600/600 [==============================] - 6s 10ms/step - loss: 0.1887 - accuracy: 0.9306\n",
            "Epoch 19/50\n",
            "600/600 [==============================] - 6s 10ms/step - loss: 0.1813 - accuracy: 0.9348\n",
            "Epoch 20/50\n",
            "600/600 [==============================] - 6s 10ms/step - loss: 0.1776 - accuracy: 0.9368\n",
            "Epoch 21/50\n",
            "600/600 [==============================] - 6s 10ms/step - loss: 0.1755 - accuracy: 0.9369\n",
            "Epoch 22/50\n",
            "600/600 [==============================] - 6s 10ms/step - loss: 0.1718 - accuracy: 0.9383\n",
            "Epoch 23/50\n",
            "600/600 [==============================] - 6s 10ms/step - loss: 0.1669 - accuracy: 0.9400\n",
            "Epoch 24/50\n",
            "600/600 [==============================] - 6s 10ms/step - loss: 0.1635 - accuracy: 0.9421\n",
            "Epoch 25/50\n",
            "600/600 [==============================] - 6s 10ms/step - loss: 0.1592 - accuracy: 0.9441\n",
            "Epoch 26/50\n",
            "600/600 [==============================] - 6s 10ms/step - loss: 0.1549 - accuracy: 0.9446\n",
            "Epoch 27/50\n",
            "600/600 [==============================] - 6s 10ms/step - loss: 0.1522 - accuracy: 0.9452\n",
            "Epoch 28/50\n",
            "600/600 [==============================] - 6s 10ms/step - loss: 0.1485 - accuracy: 0.9470\n",
            "Epoch 29/50\n",
            "600/600 [==============================] - 6s 10ms/step - loss: 0.1463 - accuracy: 0.9481\n",
            "Epoch 30/50\n",
            "600/600 [==============================] - 6s 10ms/step - loss: 0.1454 - accuracy: 0.9487\n",
            "Epoch 31/50\n",
            "600/600 [==============================] - 6s 10ms/step - loss: 0.1417 - accuracy: 0.9507\n",
            "Epoch 32/50\n",
            "600/600 [==============================] - 6s 10ms/step - loss: 0.1402 - accuracy: 0.9513\n",
            "Epoch 33/50\n",
            "600/600 [==============================] - 6s 10ms/step - loss: 0.1361 - accuracy: 0.9519\n",
            "Epoch 34/50\n",
            "600/600 [==============================] - 6s 10ms/step - loss: 0.1371 - accuracy: 0.9524\n",
            "Epoch 35/50\n",
            "600/600 [==============================] - 6s 10ms/step - loss: 0.1301 - accuracy: 0.9548\n",
            "Epoch 36/50\n",
            "600/600 [==============================] - 6s 10ms/step - loss: 0.1335 - accuracy: 0.9546\n",
            "Epoch 37/50\n",
            "600/600 [==============================] - 6s 10ms/step - loss: 0.1267 - accuracy: 0.9563\n",
            "Epoch 38/50\n",
            "600/600 [==============================] - 6s 10ms/step - loss: 0.1258 - accuracy: 0.9569\n",
            "Epoch 39/50\n",
            "600/600 [==============================] - 6s 10ms/step - loss: 0.1244 - accuracy: 0.9571\n",
            "Epoch 40/50\n",
            "600/600 [==============================] - 7s 11ms/step - loss: 0.1233 - accuracy: 0.9577\n",
            "Epoch 41/50\n",
            "600/600 [==============================] - 6s 10ms/step - loss: 0.1203 - accuracy: 0.9596\n",
            "Epoch 42/50\n",
            "600/600 [==============================] - 6s 10ms/step - loss: 0.1186 - accuracy: 0.9602\n",
            "Epoch 43/50\n",
            "600/600 [==============================] - 6s 10ms/step - loss: 0.1157 - accuracy: 0.9605\n",
            "Epoch 44/50\n",
            "600/600 [==============================] - 6s 10ms/step - loss: 0.1142 - accuracy: 0.9617\n",
            "Epoch 45/50\n",
            "600/600 [==============================] - 6s 10ms/step - loss: 0.1124 - accuracy: 0.9624\n",
            "Epoch 46/50\n",
            "600/600 [==============================] - 6s 10ms/step - loss: 0.1120 - accuracy: 0.9621\n",
            "Epoch 47/50\n",
            "600/600 [==============================] - 6s 10ms/step - loss: 0.1081 - accuracy: 0.9638\n",
            "Epoch 48/50\n",
            "600/600 [==============================] - 6s 10ms/step - loss: 0.1060 - accuracy: 0.9656\n",
            "Epoch 49/50\n",
            "600/600 [==============================] - 6s 10ms/step - loss: 0.1064 - accuracy: 0.9647\n",
            "Epoch 50/50\n",
            "600/600 [==============================] - 6s 10ms/step - loss: 0.1038 - accuracy: 0.9651\n"
          ]
        },
        {
          "output_type": "execute_result",
          "data": {
            "text/plain": [
              "<keras.callbacks.History at 0x7f974b6bfa90>"
            ]
          },
          "metadata": {},
          "execution_count": 27
        }
      ]
    },
    {
      "cell_type": "code",
      "source": [
        "from keras.metrics import metrics\n",
        "model.compile(optimizer ='rmsprop',loss='categorical_crossentropy',metrics=['accuracy'])\n",
        "model.fit(x_train,y_train,epochs=100, batch_size= 128)"
      ],
      "metadata": {
        "colab": {
          "base_uri": "https://localhost:8080/"
        },
        "id": "pBylDudHFM83",
        "outputId": "30ee4ebd-3498-4f42-e9d1-f91d4bf6c949"
      },
      "execution_count": 30,
      "outputs": [
        {
          "output_type": "stream",
          "name": "stdout",
          "text": [
            "Epoch 1/100\n",
            "469/469 [==============================] - 7s 11ms/step - loss: 0.4924 - accuracy: 0.8294\n",
            "Epoch 2/100\n",
            "469/469 [==============================] - 5s 11ms/step - loss: 0.4687 - accuracy: 0.8350\n",
            "Epoch 3/100\n",
            "469/469 [==============================] - 6s 14ms/step - loss: 0.4515 - accuracy: 0.8420\n",
            "Epoch 4/100\n",
            "469/469 [==============================] - 5s 11ms/step - loss: 0.4383 - accuracy: 0.8462\n",
            "Epoch 5/100\n",
            "469/469 [==============================] - 7s 15ms/step - loss: 0.4276 - accuracy: 0.8485\n",
            "Epoch 6/100\n",
            "469/469 [==============================] - 5s 11ms/step - loss: 0.4178 - accuracy: 0.8516\n",
            "Epoch 7/100\n",
            "469/469 [==============================] - 5s 11ms/step - loss: 0.4108 - accuracy: 0.8551\n",
            "Epoch 8/100\n",
            "469/469 [==============================] - 5s 11ms/step - loss: 0.4037 - accuracy: 0.8573\n",
            "Epoch 9/100\n",
            "469/469 [==============================] - 5s 11ms/step - loss: 0.3973 - accuracy: 0.8603\n",
            "Epoch 10/100\n",
            "469/469 [==============================] - 5s 11ms/step - loss: 0.3912 - accuracy: 0.8617\n",
            "Epoch 11/100\n",
            "469/469 [==============================] - 5s 11ms/step - loss: 0.3860 - accuracy: 0.8629\n",
            "Epoch 12/100\n",
            "469/469 [==============================] - 5s 11ms/step - loss: 0.3809 - accuracy: 0.8651\n",
            "Epoch 13/100\n",
            "469/469 [==============================] - 5s 11ms/step - loss: 0.3766 - accuracy: 0.8657\n",
            "Epoch 14/100\n",
            "469/469 [==============================] - 6s 12ms/step - loss: 0.3717 - accuracy: 0.8678\n",
            "Epoch 15/100\n",
            "469/469 [==============================] - 8s 17ms/step - loss: 0.3675 - accuracy: 0.8698\n",
            "Epoch 16/100\n",
            "469/469 [==============================] - 6s 13ms/step - loss: 0.3634 - accuracy: 0.8713\n",
            "Epoch 17/100\n",
            "469/469 [==============================] - 5s 11ms/step - loss: 0.3598 - accuracy: 0.8725\n",
            "Epoch 18/100\n",
            "469/469 [==============================] - 5s 11ms/step - loss: 0.3556 - accuracy: 0.8735\n",
            "Epoch 19/100\n",
            "469/469 [==============================] - 5s 11ms/step - loss: 0.3523 - accuracy: 0.8748\n",
            "Epoch 20/100\n",
            "469/469 [==============================] - 5s 11ms/step - loss: 0.3492 - accuracy: 0.8752\n",
            "Epoch 21/100\n",
            "469/469 [==============================] - 5s 11ms/step - loss: 0.3461 - accuracy: 0.8763\n",
            "Epoch 22/100\n",
            "469/469 [==============================] - 5s 11ms/step - loss: 0.3422 - accuracy: 0.8783\n",
            "Epoch 23/100\n",
            "469/469 [==============================] - 6s 13ms/step - loss: 0.3395 - accuracy: 0.8782\n",
            "Epoch 24/100\n",
            "469/469 [==============================] - 5s 11ms/step - loss: 0.3366 - accuracy: 0.8801\n",
            "Epoch 25/100\n",
            "469/469 [==============================] - 5s 11ms/step - loss: 0.3339 - accuracy: 0.8804\n",
            "Epoch 26/100\n",
            "469/469 [==============================] - 5s 11ms/step - loss: 0.3305 - accuracy: 0.8823\n",
            "Epoch 27/100\n",
            "469/469 [==============================] - 5s 11ms/step - loss: 0.3277 - accuracy: 0.8823\n",
            "Epoch 28/100\n",
            "469/469 [==============================] - 5s 11ms/step - loss: 0.3252 - accuracy: 0.8840\n",
            "Epoch 29/100\n",
            "469/469 [==============================] - 5s 11ms/step - loss: 0.3226 - accuracy: 0.8849\n",
            "Epoch 30/100\n",
            "469/469 [==============================] - 5s 11ms/step - loss: 0.3198 - accuracy: 0.8856\n",
            "Epoch 31/100\n",
            "469/469 [==============================] - 5s 11ms/step - loss: 0.3174 - accuracy: 0.8864\n",
            "Epoch 32/100\n",
            "469/469 [==============================] - 5s 11ms/step - loss: 0.3151 - accuracy: 0.8874\n",
            "Epoch 33/100\n",
            "469/469 [==============================] - 5s 11ms/step - loss: 0.3124 - accuracy: 0.8884\n",
            "Epoch 34/100\n",
            "469/469 [==============================] - 5s 12ms/step - loss: 0.3102 - accuracy: 0.8885\n",
            "Epoch 35/100\n",
            "469/469 [==============================] - 5s 11ms/step - loss: 0.3079 - accuracy: 0.8893\n",
            "Epoch 36/100\n",
            "469/469 [==============================] - 5s 11ms/step - loss: 0.3059 - accuracy: 0.8901\n",
            "Epoch 37/100\n",
            "469/469 [==============================] - 5s 11ms/step - loss: 0.3034 - accuracy: 0.8913\n",
            "Epoch 38/100\n",
            "469/469 [==============================] - 5s 11ms/step - loss: 0.3019 - accuracy: 0.8917\n",
            "Epoch 39/100\n",
            "469/469 [==============================] - 5s 11ms/step - loss: 0.2997 - accuracy: 0.8924\n",
            "Epoch 40/100\n",
            "469/469 [==============================] - 5s 11ms/step - loss: 0.2976 - accuracy: 0.8936\n",
            "Epoch 41/100\n",
            "469/469 [==============================] - 5s 11ms/step - loss: 0.2954 - accuracy: 0.8936\n",
            "Epoch 42/100\n",
            "469/469 [==============================] - 5s 10ms/step - loss: 0.2937 - accuracy: 0.8944\n",
            "Epoch 43/100\n",
            "469/469 [==============================] - 5s 11ms/step - loss: 0.2915 - accuracy: 0.8948\n",
            "Epoch 44/100\n",
            "469/469 [==============================] - 5s 11ms/step - loss: 0.2898 - accuracy: 0.8957\n",
            "Epoch 45/100\n",
            "469/469 [==============================] - 5s 11ms/step - loss: 0.2876 - accuracy: 0.8962\n",
            "Epoch 46/100\n",
            "469/469 [==============================] - 5s 11ms/step - loss: 0.2861 - accuracy: 0.8967\n",
            "Epoch 47/100\n",
            "469/469 [==============================] - 5s 11ms/step - loss: 0.2848 - accuracy: 0.8968\n",
            "Epoch 48/100\n",
            "469/469 [==============================] - 5s 11ms/step - loss: 0.2825 - accuracy: 0.8990\n",
            "Epoch 49/100\n",
            "469/469 [==============================] - 6s 13ms/step - loss: 0.2807 - accuracy: 0.8983\n",
            "Epoch 50/100\n",
            "469/469 [==============================] - 5s 11ms/step - loss: 0.2792 - accuracy: 0.8988\n",
            "Epoch 51/100\n",
            "469/469 [==============================] - 5s 11ms/step - loss: 0.2777 - accuracy: 0.8995\n",
            "Epoch 52/100\n",
            "469/469 [==============================] - 5s 11ms/step - loss: 0.2754 - accuracy: 0.9010\n",
            "Epoch 53/100\n",
            "469/469 [==============================] - 5s 11ms/step - loss: 0.2745 - accuracy: 0.9012\n",
            "Epoch 54/100\n",
            "469/469 [==============================] - 5s 11ms/step - loss: 0.2723 - accuracy: 0.9027\n",
            "Epoch 55/100\n",
            "469/469 [==============================] - 5s 11ms/step - loss: 0.2709 - accuracy: 0.9032\n",
            "Epoch 56/100\n",
            "469/469 [==============================] - 5s 11ms/step - loss: 0.2694 - accuracy: 0.9025\n",
            "Epoch 57/100\n",
            "469/469 [==============================] - 5s 11ms/step - loss: 0.2680 - accuracy: 0.9035\n",
            "Epoch 58/100\n",
            "469/469 [==============================] - 5s 11ms/step - loss: 0.2665 - accuracy: 0.9038\n",
            "Epoch 59/100\n",
            "469/469 [==============================] - 5s 11ms/step - loss: 0.2650 - accuracy: 0.9046\n",
            "Epoch 60/100\n",
            "469/469 [==============================] - 5s 11ms/step - loss: 0.2638 - accuracy: 0.9055\n",
            "Epoch 61/100\n",
            "469/469 [==============================] - 6s 13ms/step - loss: 0.2620 - accuracy: 0.9059\n",
            "Epoch 62/100\n",
            "469/469 [==============================] - 6s 14ms/step - loss: 0.2607 - accuracy: 0.9059\n",
            "Epoch 63/100\n",
            "469/469 [==============================] - 5s 11ms/step - loss: 0.2595 - accuracy: 0.9062\n",
            "Epoch 64/100\n",
            "469/469 [==============================] - 5s 11ms/step - loss: 0.2581 - accuracy: 0.9071\n",
            "Epoch 65/100\n",
            "469/469 [==============================] - 5s 11ms/step - loss: 0.2565 - accuracy: 0.9075\n",
            "Epoch 66/100\n",
            "469/469 [==============================] - 5s 11ms/step - loss: 0.2550 - accuracy: 0.9091\n",
            "Epoch 67/100\n",
            "469/469 [==============================] - 5s 11ms/step - loss: 0.2538 - accuracy: 0.9088\n",
            "Epoch 68/100\n",
            "469/469 [==============================] - 5s 11ms/step - loss: 0.2526 - accuracy: 0.9094\n",
            "Epoch 69/100\n",
            "469/469 [==============================] - 5s 11ms/step - loss: 0.2514 - accuracy: 0.9096\n",
            "Epoch 70/100\n",
            "469/469 [==============================] - 5s 11ms/step - loss: 0.2501 - accuracy: 0.9096\n",
            "Epoch 71/100\n",
            "469/469 [==============================] - 5s 11ms/step - loss: 0.2492 - accuracy: 0.9103\n",
            "Epoch 72/100\n",
            "469/469 [==============================] - 5s 11ms/step - loss: 0.2478 - accuracy: 0.9114\n",
            "Epoch 73/100\n",
            "469/469 [==============================] - 5s 11ms/step - loss: 0.2464 - accuracy: 0.9117\n",
            "Epoch 74/100\n",
            "469/469 [==============================] - 5s 11ms/step - loss: 0.2453 - accuracy: 0.9129\n",
            "Epoch 75/100\n",
            "469/469 [==============================] - 5s 11ms/step - loss: 0.2442 - accuracy: 0.9125\n",
            "Epoch 76/100\n",
            "469/469 [==============================] - 5s 11ms/step - loss: 0.2428 - accuracy: 0.9123\n",
            "Epoch 77/100\n",
            "469/469 [==============================] - 5s 11ms/step - loss: 0.2417 - accuracy: 0.9137\n",
            "Epoch 78/100\n",
            "469/469 [==============================] - 5s 11ms/step - loss: 0.2406 - accuracy: 0.9138\n",
            "Epoch 79/100\n",
            "469/469 [==============================] - 5s 11ms/step - loss: 0.2399 - accuracy: 0.9139\n",
            "Epoch 80/100\n",
            "469/469 [==============================] - 5s 11ms/step - loss: 0.2382 - accuracy: 0.9148\n",
            "Epoch 81/100\n",
            "469/469 [==============================] - 5s 11ms/step - loss: 0.2371 - accuracy: 0.9158\n",
            "Epoch 82/100\n",
            "469/469 [==============================] - 5s 11ms/step - loss: 0.2363 - accuracy: 0.9150\n",
            "Epoch 83/100\n",
            "469/469 [==============================] - 5s 11ms/step - loss: 0.2351 - accuracy: 0.9150\n",
            "Epoch 84/100\n",
            "469/469 [==============================] - 5s 11ms/step - loss: 0.2339 - accuracy: 0.9164\n",
            "Epoch 85/100\n",
            "469/469 [==============================] - 5s 11ms/step - loss: 0.2326 - accuracy: 0.9172\n",
            "Epoch 86/100\n",
            "469/469 [==============================] - 5s 11ms/step - loss: 0.2320 - accuracy: 0.9174\n",
            "Epoch 87/100\n",
            "469/469 [==============================] - 5s 11ms/step - loss: 0.2309 - accuracy: 0.9171\n",
            "Epoch 88/100\n",
            "469/469 [==============================] - 5s 11ms/step - loss: 0.2298 - accuracy: 0.9172\n",
            "Epoch 89/100\n",
            "469/469 [==============================] - 5s 11ms/step - loss: 0.2285 - accuracy: 0.9182\n",
            "Epoch 90/100\n",
            "469/469 [==============================] - 5s 11ms/step - loss: 0.2279 - accuracy: 0.9179\n",
            "Epoch 91/100\n",
            "469/469 [==============================] - 5s 11ms/step - loss: 0.2270 - accuracy: 0.9186\n",
            "Epoch 92/100\n",
            "469/469 [==============================] - 5s 11ms/step - loss: 0.2256 - accuracy: 0.9198\n",
            "Epoch 93/100\n",
            "469/469 [==============================] - 5s 11ms/step - loss: 0.2249 - accuracy: 0.9203\n",
            "Epoch 94/100\n",
            "469/469 [==============================] - 5s 11ms/step - loss: 0.2232 - accuracy: 0.9207\n",
            "Epoch 95/100\n",
            "469/469 [==============================] - 5s 11ms/step - loss: 0.2229 - accuracy: 0.9203\n",
            "Epoch 96/100\n",
            "469/469 [==============================] - 5s 11ms/step - loss: 0.2218 - accuracy: 0.9210\n",
            "Epoch 97/100\n",
            "469/469 [==============================] - 5s 11ms/step - loss: 0.2212 - accuracy: 0.9199\n",
            "Epoch 98/100\n",
            "469/469 [==============================] - 6s 13ms/step - loss: 0.2197 - accuracy: 0.9209\n",
            "Epoch 99/100\n",
            "469/469 [==============================] - 5s 11ms/step - loss: 0.2190 - accuracy: 0.9222\n",
            "Epoch 100/100\n",
            "469/469 [==============================] - 5s 11ms/step - loss: 0.2177 - accuracy: 0.9227\n"
          ]
        },
        {
          "output_type": "execute_result",
          "data": {
            "text/plain": [
              "<keras.callbacks.History at 0x7f9750445b50>"
            ]
          },
          "metadata": {},
          "execution_count": 30
        }
      ]
    },
    {
      "cell_type": "code",
      "source": [
        "test_loss , test_acc = model.evaluate( x_test, y_test)\n",
        "print(' test acc: ', test_acc)"
      ],
      "metadata": {
        "colab": {
          "base_uri": "https://localhost:8080/"
        },
        "id": "35GqxLugFr6L",
        "outputId": "36c52cd1-01c7-484d-a8b6-91cb53ec6ba1"
      },
      "execution_count": 31,
      "outputs": [
        {
          "output_type": "stream",
          "name": "stdout",
          "text": [
            "313/313 [==============================] - 1s 3ms/step - loss: 0.3207 - accuracy: 0.8888\n",
            " test acc:  0.8888000249862671\n"
          ]
        }
      ]
    },
    {
      "cell_type": "code",
      "source": [
        "import matplotlib.pyplot as plt\n",
        "from tensorflow.keras.utils import load_img\n",
        "from tensorflow.keras.utils import img_to_array\n",
        "url='polo.jpg'\n",
        "img = load_img(url,target_size=(28,28))\n",
        "plt.imshow(img)"
      ],
      "metadata": {
        "colab": {
          "base_uri": "https://localhost:8080/",
          "height": 282
        },
        "id": "s_X_GeipFv76",
        "outputId": "0369655a-aa67-4f75-d05d-1157fb30fc32"
      },
      "execution_count": 33,
      "outputs": [
        {
          "output_type": "execute_result",
          "data": {
            "text/plain": [
              "<matplotlib.image.AxesImage at 0x7f974b289910>"
            ]
          },
          "metadata": {},
          "execution_count": 33
        },
        {
          "output_type": "display_data",
          "data": {
            "text/plain": [
              "<Figure size 432x288 with 1 Axes>"
            ],
            "image/png": "[encoded data removed]"
          },
          "metadata": {
            "needs_background": "light"
          }
        }
      ]
    },
    {
      "cell_type": "code",
      "source": [],
      "metadata": {
        "id": "rfdn5m-bHv1p"
      },
      "execution_count": null,
      "outputs": []
    }
  ]
}