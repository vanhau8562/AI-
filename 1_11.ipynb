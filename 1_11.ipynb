{
  "nbformat": 4,
  "nbformat_minor": 0,
  "metadata": {
    "colab": {
      "provenance": [],
      "authorship_tag": "ABX9TyPE9NqqZxiKw6oGvhYALvYY",
      "include_colab_link": true
    },
    "kernelspec": {
      "name": "python3",
      "display_name": "Python 3"
    },
    "language_info": {
      "name": "python"
    }
  },
  "cells": [
    {
      "cell_type": "markdown",
      "metadata": {
        "id": "view-in-github",
        "colab_type": "text"
      },
      "source": [
        "<a href=\"https://colab.research.google.com/github/vanhau8562/AI-/blob/main/1_11.ipynb\" target=\"_parent\"><img src=\"https://colab.research.google.com/assets/colab-badge.svg\" alt=\"Open In Colab\"/></a>"
      ]
    },
    {
      "cell_type": "code",
      "source": [
        "from keras.datasets import mnist\n",
        "(x_train,y_train),(x_test,y_test)=mnist.load_data()\n",
        "x_test.shape"
      ],
      "metadata": {
        "colab": {
          "base_uri": "https://localhost:8080/"
        },
        "id": "_PvRWbXUFfr5",
        "outputId": "45dbaf2c-83b3-4696-9fde-a7afa370c778"
      },
      "execution_count": null,
      "outputs": [
        {
          "output_type": "execute_result",
          "data": {
            "text/plain": [
              "(10000, 28, 28)"
            ]
          },
          "metadata": {},
          "execution_count": 32
        }
      ]
    },
    {
      "cell_type": "code",
      "source": [
        "x_test.shape"
      ],
      "metadata": {
        "colab": {
          "base_uri": "https://localhost:8080/"
        },
        "id": "GLQJJ88eGtQU",
        "outputId": "b45ae4b0-62c2-4f75-f61e-d963af432fe2"
      },
      "execution_count": null,
      "outputs": [
        {
          "output_type": "execute_result",
          "data": {
            "text/plain": [
              "(10000, 28, 28)"
            ]
          },
          "metadata": {},
          "execution_count": 33
        }
      ]
    },
    {
      "cell_type": "code",
      "source": [
        "y_test.shape"
      ],
      "metadata": {
        "colab": {
          "base_uri": "https://localhost:8080/"
        },
        "id": "g1J7HEYwHJPr",
        "outputId": "4395491c-0c84-4df0-b620-47e9b7473513"
      },
      "execution_count": null,
      "outputs": [
        {
          "output_type": "execute_result",
          "data": {
            "text/plain": [
              "(10000,)"
            ]
          },
          "metadata": {},
          "execution_count": 34
        }
      ]
    },
    {
      "cell_type": "code",
      "source": [
        "x_train.shape"
      ],
      "metadata": {
        "colab": {
          "base_uri": "https://localhost:8080/"
        },
        "id": "b-SayUlkHS6U",
        "outputId": "60462e0d-3cbf-456a-c899-e821c8917e7e"
      },
      "execution_count": null,
      "outputs": [
        {
          "output_type": "execute_result",
          "data": {
            "text/plain": [
              "(60000, 28, 28)"
            ]
          },
          "metadata": {},
          "execution_count": 35
        }
      ]
    },
    {
      "cell_type": "code",
      "source": [
        "y_train.shape"
      ],
      "metadata": {
        "colab": {
          "base_uri": "https://localhost:8080/"
        },
        "id": "X-pTbB49HVE-",
        "outputId": "a04d0a9e-12f9-49b4-c946-0da408e5ce80"
      },
      "execution_count": null,
      "outputs": [
        {
          "output_type": "execute_result",
          "data": {
            "text/plain": [
              "(60000,)"
            ]
          },
          "metadata": {},
          "execution_count": 36
        }
      ]
    },
    {
      "cell_type": "code",
      "source": [
        "from keras.utils import to_categorical\n",
        "y_train = to_categorical(y_train)\n",
        "y_test = to_categorical(y_test)"
      ],
      "metadata": {
        "id": "jRxDrty5HXa3"
      },
      "execution_count": null,
      "outputs": []
    },
    {
      "cell_type": "code",
      "source": [
        "from keras.layers.pooling.max_pooling2d import MaxPooling2D\n",
        "from keras import models\n",
        "from keras.models import Sequential\n",
        "from keras.layers.serialization import activation\n",
        "from keras.layers import Dense, Dropout, Flatten\n",
        "from keras.layers import Conv2D, MaxPool2D\n",
        "from keras import layers\n",
        "\n",
        "model = models.Sequential()\n",
        "model.add(Conv2D(32, kernel_size=(3,3),activation = 'relu', input_shape = (28,28,1),padding = 'same'))\n",
        "model.add(MaxPool2D((2,2), padding = 'same'))\n",
        "model.add(Conv2D(64, kernel_size=(3,3), activation = 'relu', padding='same'))\n",
        "model.add(MaxPooling2D((2,2), padding ='same'))\n",
        "model.add(Conv2D(128,kernel_size=(3,3), activation = 'relu', padding = 'same'))\n",
        "model.add(MaxPooling2D((2,2), padding ='same'))\n",
        "model.add(Flatten())\n",
        "model.add(Dense(128,activation = 'relu'))\n",
        "model.add(Dense(10, activation = 'softmax'))"
      ],
      "metadata": {
        "id": "-sYtH11DIZk6"
      },
      "execution_count": null,
      "outputs": []
    },
    {
      "cell_type": "code",
      "source": [
        "model.compile(loss='categorical_crossentropy',metrics=['accuracy'],optimizer='adam')\n",
        "history=model.fit(x_train,y_train,epochs=20,batch_size=128,verbose=2)"
      ],
      "metadata": {
        "colab": {
          "base_uri": "https://localhost:8080/"
        },
        "id": "c6C4Lok-KNT1",
        "outputId": "e28cdfd8-02c0-455e-962c-098640f89f90"
      },
      "execution_count": null,
      "outputs": [
        {
          "output_type": "stream",
          "name": "stdout",
          "text": [
            "Epoch 1/20\n",
            "469/469 - 57s - loss: 0.6674 - accuracy: 0.9150 - 57s/epoch - 122ms/step\n",
            "Epoch 2/20\n",
            "469/469 - 56s - loss: 0.0504 - accuracy: 0.9845 - 56s/epoch - 120ms/step\n",
            "Epoch 3/20\n",
            "469/469 - 57s - loss: 0.0355 - accuracy: 0.9888 - 57s/epoch - 122ms/step\n",
            "Epoch 4/20\n",
            "469/469 - 57s - loss: 0.0291 - accuracy: 0.9902 - 57s/epoch - 121ms/step\n",
            "Epoch 5/20\n",
            "469/469 - 56s - loss: 0.0228 - accuracy: 0.9922 - 56s/epoch - 120ms/step\n",
            "Epoch 6/20\n",
            "469/469 - 57s - loss: 0.0192 - accuracy: 0.9940 - 57s/epoch - 121ms/step\n",
            "Epoch 7/20\n",
            "469/469 - 57s - loss: 0.0200 - accuracy: 0.9933 - 57s/epoch - 122ms/step\n",
            "Epoch 8/20\n",
            "469/469 - 57s - loss: 0.0192 - accuracy: 0.9936 - 57s/epoch - 121ms/step\n",
            "Epoch 9/20\n",
            "469/469 - 56s - loss: 0.0154 - accuracy: 0.9950 - 56s/epoch - 120ms/step\n",
            "Epoch 10/20\n",
            "469/469 - 56s - loss: 0.0179 - accuracy: 0.9943 - 56s/epoch - 120ms/step\n",
            "Epoch 11/20\n",
            "469/469 - 57s - loss: 0.0134 - accuracy: 0.9953 - 57s/epoch - 122ms/step\n",
            "Epoch 12/20\n",
            "469/469 - 56s - loss: 0.0163 - accuracy: 0.9948 - 56s/epoch - 120ms/step\n",
            "Epoch 13/20\n",
            "469/469 - 56s - loss: 0.0132 - accuracy: 0.9955 - 56s/epoch - 120ms/step\n",
            "Epoch 14/20\n",
            "469/469 - 56s - loss: 0.0171 - accuracy: 0.9946 - 56s/epoch - 120ms/step\n",
            "Epoch 15/20\n",
            "469/469 - 57s - loss: 0.0121 - accuracy: 0.9959 - 57s/epoch - 122ms/step\n",
            "Epoch 16/20\n",
            "469/469 - 56s - loss: 0.0077 - accuracy: 0.9976 - 56s/epoch - 120ms/step\n",
            "Epoch 17/20\n",
            "469/469 - 56s - loss: 0.0130 - accuracy: 0.9957 - 56s/epoch - 120ms/step\n",
            "Epoch 18/20\n",
            "469/469 - 56s - loss: 0.0128 - accuracy: 0.9959 - 56s/epoch - 120ms/step\n",
            "Epoch 19/20\n",
            "469/469 - 57s - loss: 0.0106 - accuracy: 0.9963 - 57s/epoch - 122ms/step\n",
            "Epoch 20/20\n",
            "469/469 - 56s - loss: 0.0124 - accuracy: 0.9963 - 56s/epoch - 120ms/step\n"
          ]
        }
      ]
    },
    {
      "cell_type": "code",
      "source": [
        "model.save('vanhau8562')"
      ],
      "metadata": {
        "colab": {
          "base_uri": "https://localhost:8080/"
        },
        "id": "kUgwUsEzSzup",
        "outputId": "9717a7bb-3dce-47b5-f3e9-f57a3b6e37dd"
      },
      "execution_count": null,
      "outputs": [
        {
          "output_type": "stream",
          "name": "stderr",
          "text": [
            "WARNING:absl:Found untraced functions such as _jit_compiled_convolution_op, _jit_compiled_convolution_op, _jit_compiled_convolution_op while saving (showing 3 of 3). These functions will not be directly callable after loading.\n"
          ]
        }
      ]
    },
    {
      "cell_type": "code",
      "source": [
        "from keras.models import load_model\n",
        "model100=load_model('vanhau8562')"
      ],
      "metadata": {
        "id": "2IoE-L3hUzHG"
      },
      "execution_count": null,
      "outputs": []
    },
    {
      "cell_type": "code",
      "source": [
        "metric = model.evaluate(x_test, y_test, verbose= 2)\n",
        "print('sai so:', metric[0])\n",
        "print('do chinh xac:', metric[1])"
      ],
      "metadata": {
        "colab": {
          "base_uri": "https://localhost:8080/"
        },
        "id": "DpiLS61faT6a",
        "outputId": "4d2258c3-13cf-4a37-8ea4-502b58e0ae8d"
      },
      "execution_count": null,
      "outputs": [
        {
          "output_type": "stream",
          "name": "stdout",
          "text": [
            "313/313 - 4s - loss: 0.0511 - accuracy: 0.9890 - 4s/epoch - 13ms/step\n",
            "sai so: 0.05109306424856186\n",
            "do chinh xac: 0.9890000224113464\n"
          ]
        }
      ]
    },
    {
      "cell_type": "code",
      "source": [
        "import matplotlib.pyplot as plt\n",
        "from matplotlib.image import imread\n",
        "plt.plot(history.history['accuracy'])\n",
        "plt.plot(history.history['loss'])\n",
        "plt.title('do chinh xac mo hinh')\n",
        "plt.ylabel('do chinh xac')\n",
        "plt.xlabel('so lan hoc')\n",
        "plt.legend(['do chinh xac','sai so'], loc= 'lower right')"
      ],
      "metadata": {
        "colab": {
          "base_uri": "https://localhost:8080/",
          "height": 312
        },
        "id": "AZsIGtGYakCt",
        "outputId": "f4400f9b-0a74-4eb5-cab8-99d78c00b277"
      },
      "execution_count": null,
      "outputs": [
        {
          "output_type": "execute_result",
          "data": {
            "text/plain": [
              "<matplotlib.legend.Legend at 0x7f58208569d0>"
            ]
          },
          "metadata": {},
          "execution_count": 44
        },
        {
          "output_type": "display_data",
          "data": {
            "text/plain": [
              "<Figure size 432x288 with 1 Axes>"
            ],
            "image/png": "[encoded data removed]"
          },
          "metadata": {
            "needs_background": "light"
          }
        }
      ]
    },
    {
      "cell_type": "code",
      "source": [
        "import matplotlib.pyplot as plt\n",
        "from tensorflow.keras.utils import load_img\n",
        "from tensorflow.keras.utils import img_to_array\n",
        "url='so2.jpg'\n",
        "img = load_img(url,target_size=(28,28))\n",
        "plt.imshow(img)"
      ],
      "metadata": {
        "colab": {
          "base_uri": "https://localhost:8080/",
          "height": 282
        },
        "id": "vCwK8sxcanO7",
        "outputId": "95331072-d0ac-4cbd-a2f5-42a8aea4fb1f"
      },
      "execution_count": null,
      "outputs": [
        {
          "output_type": "execute_result",
          "data": {
            "text/plain": [
              "<matplotlib.image.AxesImage at 0x7f5822a34210>"
            ]
          },
          "metadata": {},
          "execution_count": 45
        },
        {
          "output_type": "display_data",
          "data": {
            "text/plain": [
              "<Figure size 432x288 with 1 Axes>"
            ],
            "image/png": "[encoded data removed]"
          },
          "metadata": {
            "needs_background": "light"
          }
        }
      ]
    }
  ]
}