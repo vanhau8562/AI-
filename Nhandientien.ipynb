{
  "cells": [
    {
      "cell_type": "markdown",
      "metadata": {
        "id": "view-in-github",
        "colab_type": "text"
      },
      "source": [
        "<a href=\"https://colab.research.google.com/github/vanhau8562/AI-/blob/main/Nhandientien.ipynb\" target=\"_parent\"><img src=\"https://colab.research.google.com/assets/colab-badge.svg\" alt=\"Open In Colab\"/></a>"
      ]
    },
    {
      "cell_type": "code",
      "execution_count": 24,
      "metadata": {
        "colab": {
          "base_uri": "https://localhost:8080/"
        },
        "id": "pwbEM8Ei5LXR",
        "outputId": "dc203611-9381-46e6-a1f7-9c56a650d2a5"
      },
      "outputs": [
        {
          "output_type": "stream",
          "name": "stdout",
          "text": [
            "Drive already mounted at /content/drive; to attempt to forcibly remount, call drive.mount(\"/content/drive\", force_remount=True).\n"
          ]
        }
      ],
      "source": [
        "from google.colab import drive\n",
        "drive.mount('/content/drive')"
      ]
    },
    {
      "cell_type": "code",
      "execution_count": 25,
      "metadata": {
        "id": "rDHONnkX5O7Y"
      },
      "outputs": [],
      "source": [
        "# Khai báo và sử dụng các thư viện sau\n",
        "from sklearn.model_selection import train_test_split\n",
        "import matplotlib.pyplot as plt\n",
        "import os\n",
        "import numpy as np\n",
        "import tensorflow as tf\n",
        "from keras.utils import np_utils\n",
        "from keras.models import Sequential\n",
        "from keras.layers import Dense, Activation, Dropout, Conv2D, MaxPooling2D, Flatten\n",
        "from tensorflow.keras.optimizers import SGD, RMSprop\n",
        "from keras.callbacks import EarlyStopping, ModelCheckpoint\n",
        "from sklearn.utils import validation \n",
        "from sklearn import preprocessing\n",
        "from tensorflow.keras.utils import to_categorical\n",
        "from tensorflow.keras.models import load_model\n",
        "from tensorflow.keras.utils import load_img, img_to_array\n",
        "from tensorflow.keras.preprocessing.image import ImageDataGenerator"
      ]
    },
    {
      "cell_type": "code",
      "execution_count": 26,
      "metadata": {
        "colab": {
          "base_uri": "https://localhost:8080/"
        },
        "id": "U4xDexpf5RFx",
        "outputId": "32e6ade6-4e03-42a9-ff82-451b83846d97"
      },
      "outputs": [
        {
          "output_type": "stream",
          "name": "stdout",
          "text": [
            "/content/drive/MyDrive/Colab Notebooks/BT ca nhan/TIEN\n"
          ]
        }
      ],
      "source": [
        "%cd /content/drive/MyDrive/Colab Notebooks/BT ca nhan/TIEN"
      ]
    },
    {
      "cell_type": "code",
      "execution_count": 27,
      "metadata": {
        "id": "am_pkbBN5fvm"
      },
      "outputs": [],
      "source": [
        "# Tạo ra class ImageDataGenerator để chỉnh sửa ảnh \n",
        "train_datagen=ImageDataGenerator(rescale=1./255, shear_range=0.2, zoom_range=0.2, horizontal_flip=True)"
      ]
    },
    {
      "cell_type": "code",
      "execution_count": 28,
      "metadata": {
        "colab": {
          "base_uri": "https://localhost:8080/"
        },
        "id": "_CZQzqw-5im0",
        "outputId": "dda67cae-b232-4f54-82ef-15e91b55b28b"
      },
      "outputs": [
        {
          "output_type": "stream",
          "name": "stdout",
          "text": [
            "Found 641 images belonging to 9 classes.\n"
          ]
        }
      ],
      "source": [
        "# Tạo bộ dữ liệu training set\n",
        "training_set=train_datagen.flow_from_directory('/content/drive/MyDrive/Colab Notebooks/BT ca nhan/TIEN/train',target_size=(100,100), batch_size=32, class_mode='categorical')"
      ]
    },
    {
      "cell_type": "code",
      "execution_count": 41,
      "metadata": {
        "colab": {
          "base_uri": "https://localhost:8080/"
        },
        "id": "deIRXm9Q5tuG",
        "outputId": "574c6390-7a8f-4de9-d76e-843fb3411742"
      },
      "outputs": [
        {
          "output_type": "stream",
          "name": "stdout",
          "text": [
            "Found 641 images belonging to 9 classes.\n"
          ]
        }
      ],
      "source": [
        "# Tạo bộ dữ liệu validation\n",
        "validation=train_datagen.flow_from_directory('/content/drive/MyDrive/Colab Notebooks/BT ca nhan/TIEN/train',target_size=(100,100), batch_size=32, class_mode='categorical')"
      ]
    },
    {
      "cell_type": "code",
      "execution_count": 42,
      "metadata": {
        "colab": {
          "base_uri": "https://localhost:8080/"
        },
        "id": "AB7lAWhX6Nuz",
        "outputId": "a416ac9c-45de-48c3-e48d-59b9b86ba0bb"
      },
      "outputs": [
        {
          "output_type": "execute_result",
          "data": {
            "text/plain": [
              "{'100K': 0,\n",
              " '10K': 1,\n",
              " '1k': 2,\n",
              " '200K': 3,\n",
              " '20K': 4,\n",
              " '2k': 5,\n",
              " '500K': 6,\n",
              " '50K': 7,\n",
              " '5K': 8}"
            ]
          },
          "metadata": {},
          "execution_count": 42
        }
      ],
      "source": [
        "training_set.class_indices"
      ]
    },
    {
      "cell_type": "code",
      "execution_count": 43,
      "metadata": {
        "colab": {
          "base_uri": "https://localhost:8080/"
        },
        "id": "MfiB9i3_6RYN",
        "outputId": "8bfb4ed3-6cdc-4d3a-b0bf-1864faf395a3"
      },
      "outputs": [
        {
          "output_type": "execute_result",
          "data": {
            "text/plain": [
              "{'100K': 0,\n",
              " '10K': 1,\n",
              " '1k': 2,\n",
              " '200K': 3,\n",
              " '20K': 4,\n",
              " '2k': 5,\n",
              " '500K': 6,\n",
              " '50K': 7,\n",
              " '5K': 8}"
            ]
          },
          "metadata": {},
          "execution_count": 43
        }
      ],
      "source": [
        "validation.class_indices"
      ]
    },
    {
      "cell_type": "code",
      "execution_count": 44,
      "metadata": {
        "id": "VEzRwNxB6UFj",
        "colab": {
          "base_uri": "https://localhost:8080/"
        },
        "outputId": "3d755747-10d3-46b7-814c-ebcf9211e750"
      },
      "outputs": [
        {
          "output_type": "stream",
          "name": "stdout",
          "text": [
            "Model: \"sequential_3\"\n",
            "_________________________________________________________________\n",
            " Layer (type)                Output Shape              Param #   \n",
            "=================================================================\n",
            " conv2d_18 (Conv2D)          (None, 100, 100, 32)      896       \n",
            "                                                                 \n",
            " conv2d_19 (Conv2D)          (None, 100, 100, 32)      9248      \n",
            "                                                                 \n",
            " max_pooling2d_9 (MaxPooling  (None, 50, 50, 32)       0         \n",
            " 2D)                                                             \n",
            "                                                                 \n",
            " conv2d_20 (Conv2D)          (None, 50, 50, 64)        18496     \n",
            "                                                                 \n",
            " conv2d_21 (Conv2D)          (None, 50, 50, 64)        36928     \n",
            "                                                                 \n",
            " max_pooling2d_10 (MaxPoolin  (None, 25, 25, 64)       0         \n",
            " g2D)                                                            \n",
            "                                                                 \n",
            " conv2d_22 (Conv2D)          (None, 25, 25, 128)       73856     \n",
            "                                                                 \n",
            " conv2d_23 (Conv2D)          (None, 25, 25, 128)       147584    \n",
            "                                                                 \n",
            " max_pooling2d_11 (MaxPoolin  (None, 12, 12, 128)      0         \n",
            " g2D)                                                            \n",
            "                                                                 \n",
            " flatten_3 (Flatten)         (None, 18432)             0         \n",
            "                                                                 \n",
            " dense_6 (Dense)             (None, 128)               2359424   \n",
            "                                                                 \n",
            " dropout_3 (Dropout)         (None, 128)               0         \n",
            "                                                                 \n",
            " dense_7 (Dense)             (None, 9)                 1161      \n",
            "                                                                 \n",
            "=================================================================\n",
            "Total params: 2,647,593\n",
            "Trainable params: 2,647,593\n",
            "Non-trainable params: 0\n",
            "_________________________________________________________________\n"
          ]
        }
      ],
      "source": [
        "# Tạo ra mạng CNN để train mô hình\n",
        "model=Sequential()\n",
        "# Tích chập 32 lần với mỗi lần là 3 hàng 3 cột\n",
        "model.add(Conv2D(32,(3,3), activation='relu', kernel_initializer='he_uniform', padding='same',input_shape=(100,100,3))) \n",
        "model.add(Conv2D(32,(3,3), activation='relu', kernel_initializer='he_uniform', padding='same'))\n",
        "# Lấy phần tử lớn nhất ở trong 2 hàng và 2 cột\n",
        "model.add(MaxPooling2D(2,2))\n",
        "# Tích chập 64 lần với mỗi lần là 3 hàng 3 cột\n",
        "model.add(Conv2D(64,(3,3), activation='relu', kernel_initializer='he_uniform', padding='same')) \n",
        "model.add(Conv2D(64,(3,3), activation='relu', kernel_initializer='he_uniform', padding='same'))\n",
        "# Lấy phần tử lớn nhất ở trong 2 hàng và 2 cột\n",
        "model.add(MaxPooling2D(2,2))\n",
        "# Tích chập 128 lần với mỗi lần là 3 hàng 3 cột\n",
        "model.add(Conv2D(128,(3,3), activation='relu', kernel_initializer='he_uniform', padding='same')) \n",
        "model.add(Conv2D(128,(3,3), activation='relu', kernel_initializer='he_uniform', padding='same'))\n",
        "# Lấy phần tử lớn nhất ở trong 2 hàng và 2 cột\n",
        "model.add(MaxPooling2D(2,2))\n",
        "# Duỗi thẳng dữ liệu \n",
        "model.add(Flatten())\n",
        "# Tạo lớp ẩn thứ nhất với 128 tín hiệu ra\n",
        "model.add(Dense(128,activation='relu',kernel_initializer='he_uniform'))\n",
        "model.add(Dropout(0.2))\n",
        "# Tạo lớp ẩn thứ hai với 10 tín hiệu ra\n",
        "model.add(Dense(9,activation='softmax'))\n",
        "model.summary()"
      ]
    },
    {
      "cell_type": "code",
      "execution_count": null,
      "metadata": {
        "colab": {
          "base_uri": "https://localhost:8080/"
        },
        "id": "C4sxUB066V1_",
        "outputId": "0348c92e-2e67-4d0f-fee9-4e11290ac1ed"
      },
      "outputs": [
        {
          "output_type": "stream",
          "name": "stdout",
          "text": [
            "Epoch 1/100\n",
            "21/21 [==============================] - 222s 9s/step - loss: 3.4222 - accuracy: 0.1014 - val_loss: 2.1926 - val_accuracy: 0.1232\n",
            "Epoch 2/100\n",
            "21/21 [==============================] - 77s 4s/step - loss: 2.1933 - accuracy: 0.1279 - val_loss: 2.1575 - val_accuracy: 0.1404\n",
            "Epoch 3/100\n",
            "21/21 [==============================] - 77s 4s/step - loss: 2.1182 - accuracy: 0.1622 - val_loss: 2.3472 - val_accuracy: 0.1279\n",
            "Epoch 4/100\n",
            "21/21 [==============================] - 79s 4s/step - loss: 2.2624 - accuracy: 0.1357 - val_loss: 2.1895 - val_accuracy: 0.1232\n",
            "Epoch 5/100\n",
            "21/21 [==============================] - 77s 4s/step - loss: 2.1870 - accuracy: 0.1404 - val_loss: 2.1719 - val_accuracy: 0.1576\n",
            "Epoch 6/100\n",
            "21/21 [==============================] - 77s 4s/step - loss: 2.1508 - accuracy: 0.1716 - val_loss: 1.9838 - val_accuracy: 0.2137\n",
            "Epoch 7/100\n",
            "21/21 [==============================] - 79s 4s/step - loss: 2.0610 - accuracy: 0.2075 - val_loss: 1.9900 - val_accuracy: 0.2231\n",
            "Epoch 8/100\n",
            "21/21 [==============================] - 77s 4s/step - loss: 1.9372 - accuracy: 0.2621 - val_loss: 1.8106 - val_accuracy: 0.3354\n",
            "Epoch 9/100\n",
            "21/21 [==============================] - 77s 4s/step - loss: 1.8445 - accuracy: 0.2980 - val_loss: 1.6740 - val_accuracy: 0.3963\n",
            "Epoch 10/100\n",
            "21/21 [==============================] - 79s 4s/step - loss: 1.6976 - accuracy: 0.3479 - val_loss: 1.5856 - val_accuracy: 0.3651\n",
            "Epoch 11/100\n",
            "21/21 [==============================] - 77s 4s/step - loss: 2.3380 - accuracy: 0.2090 - val_loss: 1.8045 - val_accuracy: 0.3417\n",
            "Epoch 12/100\n",
            "21/21 [==============================] - 76s 4s/step - loss: 1.8884 - accuracy: 0.2512 - val_loss: 1.8312 - val_accuracy: 0.3011\n",
            "Epoch 13/100\n",
            "21/21 [==============================] - 77s 4s/step - loss: 1.8415 - accuracy: 0.3183 - val_loss: 1.6510 - val_accuracy: 0.3775\n",
            "Epoch 14/100\n",
            "21/21 [==============================] - 77s 4s/step - loss: 1.8397 - accuracy: 0.3027 - val_loss: 1.7357 - val_accuracy: 0.3136\n",
            "Epoch 15/100\n",
            "21/21 [==============================] - 76s 4s/step - loss: 1.8972 - accuracy: 0.2902 - val_loss: 1.8542 - val_accuracy: 0.3448\n",
            "Epoch 16/100\n",
            "21/21 [==============================] - 77s 4s/step - loss: 1.8915 - accuracy: 0.2699 - val_loss: 1.7508 - val_accuracy: 0.3339\n",
            "Epoch 17/100\n",
            "21/21 [==============================] - 87s 4s/step - loss: 1.7090 - accuracy: 0.3463 - val_loss: 1.9423 - val_accuracy: 0.2824\n",
            "Epoch 18/100\n",
            "21/21 [==============================] - 77s 4s/step - loss: 1.8655 - accuracy: 0.2637 - val_loss: 1.7900 - val_accuracy: 0.3073\n",
            "Epoch 19/100\n",
            "21/21 [==============================] - 78s 4s/step - loss: 1.8979 - accuracy: 0.2949 - val_loss: 1.6217 - val_accuracy: 0.3853\n",
            "Epoch 20/100\n",
            "21/21 [==============================] - 79s 4s/step - loss: 1.6598 - accuracy: 0.3323 - val_loss: 1.6979 - val_accuracy: 0.3323\n",
            "Epoch 21/100\n",
            "21/21 [==============================] - 77s 4s/step - loss: 1.5874 - accuracy: 0.3994 - val_loss: 1.3666 - val_accuracy: 0.5039\n",
            "Epoch 22/100\n",
            "21/21 [==============================] - 77s 4s/step - loss: 1.5980 - accuracy: 0.3791 - val_loss: 1.4773 - val_accuracy: 0.4509\n",
            "Epoch 23/100\n",
            "21/21 [==============================] - 78s 4s/step - loss: 1.5039 - accuracy: 0.4415 - val_loss: 1.2949 - val_accuracy: 0.5179\n",
            "Epoch 24/100\n",
            "21/21 [==============================] - 76s 4s/step - loss: 1.4006 - accuracy: 0.4805 - val_loss: 1.4669 - val_accuracy: 0.4711\n",
            "Epoch 25/100\n",
            "21/21 [==============================] - 77s 4s/step - loss: 1.3723 - accuracy: 0.4555 - val_loss: 1.7705 - val_accuracy: 0.4103\n",
            "Epoch 26/100\n",
            "21/21 [==============================] - 78s 4s/step - loss: 1.2822 - accuracy: 0.5242 - val_loss: 1.0394 - val_accuracy: 0.6193\n",
            "Epoch 27/100\n",
            "21/21 [==============================] - 79s 4s/step - loss: 1.1701 - accuracy: 0.5554 - val_loss: 1.1838 - val_accuracy: 0.5304\n",
            "Epoch 28/100\n",
            "21/21 [==============================] - 76s 4s/step - loss: 1.1191 - accuracy: 0.5835 - val_loss: 0.8960 - val_accuracy: 0.6693\n",
            "Epoch 29/100\n",
            "21/21 [==============================] - 77s 4s/step - loss: 1.0345 - accuracy: 0.5913 - val_loss: 0.9588 - val_accuracy: 0.6256\n",
            "Epoch 30/100\n",
            "21/21 [==============================] - 79s 4s/step - loss: 1.2348 - accuracy: 0.5289 - val_loss: 1.0153 - val_accuracy: 0.6334\n",
            "Epoch 31/100\n",
            "21/21 [==============================] - 79s 4s/step - loss: 1.0110 - accuracy: 0.6147 - val_loss: 0.7933 - val_accuracy: 0.7083\n",
            "Epoch 32/100\n",
            "21/21 [==============================] - 79s 4s/step - loss: 0.9024 - accuracy: 0.6568 - val_loss: 0.7088 - val_accuracy: 0.7488\n",
            "Epoch 33/100\n",
            "21/21 [==============================] - 79s 4s/step - loss: 0.7781 - accuracy: 0.6911 - val_loss: 0.6274 - val_accuracy: 0.7504\n",
            "Epoch 34/100\n",
            "21/21 [==============================] - 77s 4s/step - loss: 0.7163 - accuracy: 0.7254 - val_loss: 0.5367 - val_accuracy: 0.7988\n",
            "Epoch 35/100\n",
            "21/21 [==============================] - 76s 4s/step - loss: 1.2709 - accuracy: 0.5367 - val_loss: 1.0398 - val_accuracy: 0.5913\n",
            "Epoch 36/100\n",
            "21/21 [==============================] - 77s 4s/step - loss: 1.0556 - accuracy: 0.5881 - val_loss: 0.8562 - val_accuracy: 0.6661\n",
            "Epoch 37/100\n",
            "21/21 [==============================] - 78s 4s/step - loss: 1.0021 - accuracy: 0.6115 - val_loss: 0.6502 - val_accuracy: 0.7598\n",
            "Epoch 38/100\n",
            "21/21 [==============================] - 76s 4s/step - loss: 0.8290 - accuracy: 0.6724 - val_loss: 0.8434 - val_accuracy: 0.6568\n",
            "Epoch 39/100\n",
            "21/21 [==============================] - 77s 4s/step - loss: 0.8028 - accuracy: 0.6942 - val_loss: 0.6226 - val_accuracy: 0.7738\n",
            "Epoch 40/100\n",
            "21/21 [==============================] - 79s 4s/step - loss: 0.7400 - accuracy: 0.7239 - val_loss: 0.5379 - val_accuracy: 0.7832\n",
            "Epoch 41/100\n",
            "21/21 [==============================] - 77s 4s/step - loss: 0.6463 - accuracy: 0.7520 - val_loss: 0.4440 - val_accuracy: 0.8487\n",
            "Epoch 42/100\n",
            "21/21 [==============================] - 77s 4s/step - loss: 0.5333 - accuracy: 0.8019 - val_loss: 0.3894 - val_accuracy: 0.8690\n",
            "Epoch 43/100\n",
            "21/21 [==============================] - 78s 4s/step - loss: 0.4747 - accuracy: 0.8222 - val_loss: 0.5782 - val_accuracy: 0.7941\n",
            "Epoch 44/100\n",
            "21/21 [==============================] - 77s 4s/step - loss: 1.0182 - accuracy: 0.6303 - val_loss: 0.6529 - val_accuracy: 0.7644\n",
            "Epoch 45/100\n",
            "21/21 [==============================] - 76s 4s/step - loss: 0.7092 - accuracy: 0.7270 - val_loss: 0.4515 - val_accuracy: 0.8284\n",
            "Epoch 46/100\n",
            "21/21 [==============================] - 76s 4s/step - loss: 0.5100 - accuracy: 0.8268 - val_loss: 0.3546 - val_accuracy: 0.8690\n",
            "Epoch 47/100\n",
            "21/21 [==============================] - 78s 4s/step - loss: 0.5392 - accuracy: 0.7754 - val_loss: 0.3373 - val_accuracy: 0.8924\n",
            "Epoch 48/100\n",
            "21/21 [==============================] - 78s 4s/step - loss: 0.6394 - accuracy: 0.7738 - val_loss: 0.4620 - val_accuracy: 0.8346\n",
            "Epoch 49/100\n",
            "21/21 [==============================] - 77s 4s/step - loss: 0.5836 - accuracy: 0.7832 - val_loss: 0.3576 - val_accuracy: 0.8752\n",
            "Epoch 50/100\n",
            "21/21 [==============================] - 78s 4s/step - loss: 0.4425 - accuracy: 0.8315 - val_loss: 0.2551 - val_accuracy: 0.9064\n",
            "Epoch 51/100\n",
            "21/21 [==============================] - 76s 4s/step - loss: 0.4535 - accuracy: 0.8393 - val_loss: 0.3168 - val_accuracy: 0.8986\n",
            "Epoch 52/100\n",
            "21/21 [==============================] - 76s 4s/step - loss: 0.4377 - accuracy: 0.8268 - val_loss: 0.2261 - val_accuracy: 0.9251\n",
            "Epoch 53/100\n",
            "21/21 [==============================] - 78s 4s/step - loss: 0.3088 - accuracy: 0.8939 - val_loss: 0.2274 - val_accuracy: 0.9236\n",
            "Epoch 54/100\n",
            "21/21 [==============================] - 76s 4s/step - loss: 0.3589 - accuracy: 0.8580 - val_loss: 0.2470 - val_accuracy: 0.9080\n",
            "Epoch 55/100\n",
            "21/21 [==============================] - 76s 4s/step - loss: 0.3580 - accuracy: 0.8768 - val_loss: 0.1658 - val_accuracy: 0.9579\n",
            "Epoch 56/100\n",
            "21/21 [==============================] - 76s 4s/step - loss: 0.2866 - accuracy: 0.8892 - val_loss: 0.1628 - val_accuracy: 0.9548\n",
            "Epoch 57/100\n",
            "21/21 [==============================] - 76s 4s/step - loss: 0.3697 - accuracy: 0.8674 - val_loss: 0.1556 - val_accuracy: 0.9532\n",
            "Epoch 58/100\n",
            "21/21 [==============================] - 77s 4s/step - loss: 0.3019 - accuracy: 0.8892 - val_loss: 0.1921 - val_accuracy: 0.9423\n",
            "Epoch 59/100\n",
            "21/21 [==============================] - 77s 4s/step - loss: 0.3135 - accuracy: 0.8892 - val_loss: 0.2393 - val_accuracy: 0.9080\n",
            "Epoch 60/100\n",
            "21/21 [==============================] - 79s 4s/step - loss: 0.2346 - accuracy: 0.9173 - val_loss: 0.1252 - val_accuracy: 0.9548\n",
            "Epoch 61/100\n",
            "21/21 [==============================] - 77s 4s/step - loss: 0.4044 - accuracy: 0.8783 - val_loss: 0.2858 - val_accuracy: 0.9017\n",
            "Epoch 62/100\n",
            "21/21 [==============================] - 76s 4s/step - loss: 0.5231 - accuracy: 0.8190 - val_loss: 0.4124 - val_accuracy: 0.8643\n",
            "Epoch 63/100\n",
            "21/21 [==============================] - 78s 4s/step - loss: 0.4864 - accuracy: 0.8222 - val_loss: 0.2138 - val_accuracy: 0.9298\n",
            "Epoch 64/100\n",
            "21/21 [==============================] - 77s 4s/step - loss: 0.3200 - accuracy: 0.8814 - val_loss: 0.1469 - val_accuracy: 0.9563\n",
            "Epoch 65/100\n",
            "21/21 [==============================] - 77s 4s/step - loss: 0.2579 - accuracy: 0.9033 - val_loss: 0.1390 - val_accuracy: 0.9532\n",
            "Epoch 66/100\n",
            "21/21 [==============================] - 79s 4s/step - loss: 0.3653 - accuracy: 0.8736 - val_loss: 0.1821 - val_accuracy: 0.9423\n",
            "Epoch 67/100\n",
            "21/21 [==============================] - 77s 4s/step - loss: 0.2244 - accuracy: 0.9111 - val_loss: 0.1031 - val_accuracy: 0.9610\n",
            "Epoch 68/100\n",
            "21/21 [==============================] - 78s 4s/step - loss: 1.7514 - accuracy: 0.5523 - val_loss: 1.0852 - val_accuracy: 0.6303\n",
            "Epoch 69/100\n",
            "21/21 [==============================] - 79s 4s/step - loss: 0.9799 - accuracy: 0.6084 - val_loss: 0.6207 - val_accuracy: 0.8066\n",
            "Epoch 70/100\n",
            "21/21 [==============================] - 77s 4s/step - loss: 0.7313 - accuracy: 0.7551 - val_loss: 0.5305 - val_accuracy: 0.8159\n",
            "Epoch 71/100\n",
            "21/21 [==============================] - 77s 4s/step - loss: 0.7733 - accuracy: 0.7317 - val_loss: 0.4018 - val_accuracy: 0.8939\n",
            "Epoch 72/100\n",
            "21/21 [==============================] - 77s 4s/step - loss: 0.5011 - accuracy: 0.8144 - val_loss: 0.2650 - val_accuracy: 0.8986\n",
            "Epoch 73/100\n",
            "21/21 [==============================] - 79s 4s/step - loss: 0.3314 - accuracy: 0.8861 - val_loss: 0.1746 - val_accuracy: 0.9454\n",
            "Epoch 74/100\n",
            "21/21 [==============================] - 77s 4s/step - loss: 0.3795 - accuracy: 0.8721 - val_loss: 0.1916 - val_accuracy: 0.9360\n",
            "Epoch 75/100\n",
            "21/21 [==============================] - 76s 4s/step - loss: 0.3472 - accuracy: 0.8799 - val_loss: 0.1618 - val_accuracy: 0.9563\n",
            "Epoch 76/100\n",
            "21/21 [==============================] - 79s 4s/step - loss: 0.3163 - accuracy: 0.8783 - val_loss: 0.1473 - val_accuracy: 0.9610\n",
            "Epoch 77/100\n",
            "21/21 [==============================] - 77s 4s/step - loss: 0.2295 - accuracy: 0.9111 - val_loss: 0.1229 - val_accuracy: 0.9594\n",
            "Epoch 78/100\n",
            "21/21 [==============================] - 78s 4s/step - loss: 0.1700 - accuracy: 0.9314 - val_loss: 0.1334 - val_accuracy: 0.9579\n",
            "Epoch 79/100\n",
            "21/21 [==============================] - 79s 4s/step - loss: 0.2074 - accuracy: 0.9282 - val_loss: 0.0843 - val_accuracy: 0.9719\n",
            "Epoch 80/100\n",
            "21/21 [==============================] - 77s 4s/step - loss: 0.2013 - accuracy: 0.9376 - val_loss: 0.1623 - val_accuracy: 0.9594\n",
            "Epoch 81/100\n",
            "21/21 [==============================] - 77s 4s/step - loss: 0.1687 - accuracy: 0.9438 - val_loss: 0.0890 - val_accuracy: 0.9704\n",
            "Epoch 82/100\n",
            "21/21 [==============================] - 78s 4s/step - loss: 0.1877 - accuracy: 0.9345 - val_loss: 0.0856 - val_accuracy: 0.9735\n",
            "Epoch 83/100\n",
            "21/21 [==============================] - 77s 4s/step - loss: 0.1852 - accuracy: 0.9220 - val_loss: 0.0959 - val_accuracy: 0.9719\n",
            "Epoch 84/100\n",
            "21/21 [==============================] - 77s 4s/step - loss: 0.1968 - accuracy: 0.9298 - val_loss: 0.0746 - val_accuracy: 0.9735\n",
            "Epoch 85/100\n",
            "21/21 [==============================] - 79s 4s/step - loss: 0.1201 - accuracy: 0.9657 - val_loss: 0.0406 - val_accuracy: 0.9891\n",
            "Epoch 86/100\n",
            "21/21 [==============================] - 78s 4s/step - loss: 0.1269 - accuracy: 0.9563 - val_loss: 0.0518 - val_accuracy: 0.9875\n",
            "Epoch 87/100\n",
            "21/21 [==============================] - 77s 4s/step - loss: 0.1415 - accuracy: 0.9470 - val_loss: 0.0635 - val_accuracy: 0.9828\n",
            "Epoch 88/100\n",
            "19/21 [==========================>...] - ETA: 5s - loss: 0.1378 - accuracy: 0.9480"
          ]
        }
      ],
      "source": [
        "model.compile(optimizer='adam',loss='categorical_crossentropy',metrics=['accuracy'])\n",
        "\n",
        "history=model.fit(training_set,epochs=100,batch_size=128,verbose=1, validation_data=validation, callbacks=[EarlyStopping(monitor='val_loss', patience=30)])"
      ]
    },
    {
      "cell_type": "code",
      "execution_count": null,
      "metadata": {
        "id": "d-r9u8EW8TCN"
      },
      "outputs": [],
      "source": [
        "#Lưu lại\n",
        "model.save(\"nhan_dien_tien.h5\")"
      ]
    },
    {
      "cell_type": "code",
      "execution_count": null,
      "metadata": {
        "id": "vydxDXnh8fc0"
      },
      "outputs": [],
      "source": [
        "# Tải mô hình \n",
        "model_CNN=load_model('nhan_dien_tien.h5')"
      ]
    },
    {
      "cell_type": "code",
      "execution_count": null,
      "metadata": {
        "id": "BZ2JNkfo8i1s"
      },
      "outputs": [],
      "source": [
        "# Đánh giá độ chính xác của mô hình \n",
        "Score=model_CNN.evaluate(training_set,verbose = 0)\n",
        "print('Train Loss', Score[0])\n",
        "print('Train Accuracy', Score[1])"
      ]
    },
    {
      "cell_type": "code",
      "execution_count": null,
      "metadata": {
        "id": "irie59IE8jwJ"
      },
      "outputs": [],
      "source": [
        "# Vẽ đồ thị giữa số lần học (Epochs) và độ chính xác (Accuracy)\n",
        "plt.plot(history.history['accuracy'])\n",
        "plt.plot(history.history['val_accuracy'])\n",
        "plt.title('Model Accuracy')\n",
        "plt.ylabel('Accuracy')\n",
        "plt.xlabel('Epochs')\n",
        "plt.legend(['Train','Validation'])\n",
        "plt.show"
      ]
    },
    {
      "cell_type": "code",
      "execution_count": null,
      "metadata": {
        "id": "PUS-YOVO8ljW"
      },
      "outputs": [],
      "source": [
        "import os\n",
        "test1=\"/content/drive/MyDrive/Colab Notebooks/BT ca nhan/TIEN/test1\"\n",
        "test = [test1, test2]\n",
        "stt = 0\n",
        "prediction = \" \"\n",
        "for j in test:\n",
        "  stt += 1\n",
        "  for i in os.listdir(j):\n",
        "    img=load_img(j+'/'+i,target_size=(100,100))\n",
        "    print(img)\n",
        "    plt.imshow(img)\n",
        "    img=img_to_array(img)\n",
        "    img=img.astype('float32')\n",
        "    img=img/255\n",
        "    img=np.expand_dims(img,axis=0)\n",
        "    result=model_CNN.predict(img)\n",
        "    if round(result[0][0])==1:\n",
        "      prediction='100000 dong'\n",
        "    if round(result[0][1])==1:\n",
        "      prediction='10000 dong'\n",
        "    if round(result[0][2])==1:\n",
        "      prediction='1000 dong'\n",
        "    if round(result[0][3])==1:\n",
        "      prediction='200000 dong'\n",
        "    if round(result[0][4])==1:\n",
        "      prediction='20000 dong'\n",
        "    if round(result[0][5])==1:\n",
        "      prediction='2000 dong'\n",
        "    if round(result[0][6])==1:\n",
        "      prediction='500000 dong'\n",
        "    if round(result[0][7])==1:\n",
        "      prediction='50000 dong'\n",
        "    if round(result[0][8])==1:\n",
        "      prediction='5000 dong'\n",
        "    print('Menh gia tien:',prediction)\n",
        "    print(f'Du lieu nam trong bo Test {stt}')\n",
        "\n",
        "    plt.show()"
      ]
    }
  ],
  "metadata": {
    "accelerator": "GPU",
    "colab": {
      "provenance": [],
      "mount_file_id": "15-2H1hYuqZYpNh-An__si31fDu38P1Dj",
      "authorship_tag": "ABX9TyPms2ZPTmgvRDafaORo8wm1",
      "include_colab_link": true
    },
    "gpuClass": "standard",
    "kernelspec": {
      "display_name": "Python 3",
      "name": "python3"
    },
    "language_info": {
      "name": "python"
    }
  },
  "nbformat": 4,
  "nbformat_minor": 0
}